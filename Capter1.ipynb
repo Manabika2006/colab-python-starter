{
  "cells": [
    {
      "cell_type": "code",
      "execution_count": null,
      "metadata": {
        "colab": {
          "base_uri": "https://localhost:8080/"
        },
        "id": "o0mlyBOpKgsw",
        "outputId": "86a3ba82-b2b6-44bb-c498-a71b9722bbd1"
      },
      "outputs": [
        {
          "name": "stdout",
          "output_type": "stream",
          "text": [
            "Hello world\n"
          ]
        }
      ],
      "source": [
        " print(\"Hello world\")"
      ]
    },
    {
      "cell_type": "markdown",
      "metadata": {
        "id": "dTOn-n5GUIZb"
      },
      "source": [
        "Variables"
      ]
    },
    {
      "cell_type": "code",
      "execution_count": null,
      "metadata": {
        "id": "MZb1p0D9XPYZ"
      },
      "outputs": [],
      "source": [
        "Sentence = 'This is our python programming class'\n",
        "age = 76\n",
        "population = 3382291\n",
        "pci = 67.80\n",
        "\n",
        "presentStatus = True\n",
        "api_data = None\n",
        "\n",
        "numbers = [10 , 20 ,30 , \"apple\" , \"Kathmandu\" , \"tokyo\" , 3.14 , 2.63 ,33.33,]\n",
        "\n",
        "student = {\n",
        "    \"Name\" : \"Manbika\",\n",
        "    \"age\" : \"19\",\n",
        "    \"address\" : \"Gokarna\",\n",
        "    \"score\" : {\n",
        "        \"maths\" : 89 ,\n",
        "        \"english\" : 76 ,\n",
        "        \"science\" : 70 ,\n",
        "    }\n",
        "\n",
        "}\n"
      ]
    },
    {
      "cell_type": "code",
      "execution_count": null,
      "metadata": {
        "colab": {
          "base_uri": "https://localhost:8080/"
        },
        "id": "AINQB2_Kckgk",
        "outputId": "0bcc7362-2e9e-4c47-ae5e-e3941a2becde"
      },
      "outputs": [
        {
          "name": "stdout",
          "output_type": "stream",
          "text": [
            "Enter your name : Manbika\n",
            "your name is  Manbika\n",
            "Enter your age :19\n",
            "your age is  19\n"
          ]
        }
      ],
      "source": [
        "name = input (\"Enter your name : \")\n",
        "print(\"your name is \", name  )\n",
        "\n",
        "age = input (\"Enter your age :\")\n",
        "print(\"your age is \", age)"
      ]
    },
    {
      "cell_type": "markdown",
      "metadata": {
        "id": "iYFhVj2ecLb9"
      },
      "source": [
        "'python programming '\n",
        "\n",
        "input and Output function"
      ]
    },
    {
      "cell_type": "code",
      "execution_count": null,
      "metadata": {
        "id": "Gh87lbNwUOOb"
      },
      "outputs": [],
      "source": [
        "Sentences='we are studying in lab-16'\n",
        "Age=18\n",
        "Height=5.8\n"
      ]
    },
    {
      "cell_type": "code",
      "execution_count": null,
      "metadata": {
        "colab": {
          "base_uri": "https://localhost:8080/",
          "height": 36
        },
        "id": "BSyDrI0ec58V",
        "outputId": "242f1e4d-e215-44fb-ac53-3f791b2f7738"
      },
      "outputs": [
        {
          "data": {
            "application/vnd.google.colaboratory.intrinsic+json": {
              "type": "string"
            },
            "text/plain": [
              "\"[10, '10010']\""
            ]
          },
          "execution_count": 3,
          "metadata": {},
          "output_type": "execute_result"
        }
      ],
      "source": [
        "# float (\"10.10\")\n",
        "\n",
        "\n",
        "# int(1000.99999999)\n",
        "\n",
        "# a = 100\n",
        "# str(10000.1098394)+str(a)\n",
        "\n",
        "# float([10 , 20])\n",
        "str([10, \"10010\"])"
      ]
    },
    {
      "cell_type": "code",
      "execution_count": null,
      "metadata": {
        "colab": {
          "base_uri": "https://localhost:8080/"
        },
        "id": "i160142zfzD9",
        "outputId": "e97ebf81-368c-44f0-97ae-1c41326a4af3"
      },
      "outputs": [
        {
          "data": {
            "text/plain": [
              "0.07495316889958614"
            ]
          },
          "execution_count": 6,
          "metadata": {},
          "output_type": "execute_result"
        }
      ],
      "source": [
        "10 + 20.0\n",
        "10 - 20.0\n",
        "10 * 10258.0\n",
        "\n",
        "100/21\n",
        "\n",
        "178** (-1/2)\n",
        "\n",
        "# x = 10\n",
        "# y = 17\n",
        "# z = 12.1\n",
        "\n",
        "# x * (x + y - z)\n",
        "\n"
      ]
    },
    {
      "cell_type": "code",
      "execution_count": null,
      "metadata": {
        "colab": {
          "base_uri": "https://localhost:8080/",
          "height": 106
        },
        "id": "wphhXvBciiIy",
        "outputId": "e047bd7c-0d7d-4247-a674-c1bbfd17fe5b"
      },
      "outputs": [
        {
          "output_type": "error",
          "ename": "IndentationError",
          "evalue": "unexpected indent (ipython-input-3505700314.py, line 2)",
          "traceback": [
            "\u001b[0;36m  File \u001b[0;32m\"/tmp/ipython-input-3505700314.py\"\u001b[0;36m, line \u001b[0;32m2\u001b[0m\n\u001b[0;31m    x = 18\u001b[0m\n\u001b[0m    ^\u001b[0m\n\u001b[0;31mIndentationError\u001b[0m\u001b[0;31m:\u001b[0m unexpected indent\n"
          ]
        }
      ],
      "source": [
        "from os import X_OK\n",
        " x = 18\n",
        " y = 18.8\n",
        "\n",
        "x == 10\n"
      ]
    },
    {
      "cell_type": "code",
      "execution_count": null,
      "metadata": {
        "colab": {
          "base_uri": "https://localhost:8080/"
        },
        "id": "LiSmfQVcjCe7",
        "outputId": "155effe6-04db-49c9-9e34-e05c31fd0d42"
      },
      "outputs": [
        {
          "data": {
            "text/plain": [
              "True"
            ]
          },
          "execution_count": 25,
          "metadata": {},
          "output_type": "execute_result"
        }
      ],
      "source": [
        " score = 70\n",
        "\n",
        " score > 70 and score < 90\n",
        "\n",
        " score > 80 or score < 100\n",
        "\n",
        " not (score > 80)"
      ]
    },
    {
      "cell_type": "code",
      "execution_count": null,
      "metadata": {
        "colab": {
          "base_uri": "https://localhost:8080/"
        },
        "id": "GFBGa88_kZ5f",
        "outputId": "5ef5ee9a-c3dc-4087-8f34-c45ad7589929"
      },
      "outputs": [
        {
          "data": {
            "text/plain": [
              "True"
            ]
          },
          "execution_count": 26,
          "metadata": {},
          "output_type": "execute_result"
        }
      ],
      "source": [
        " # sentence = \" This is a python classroom \"\n",
        "\n",
        " # \"this\" not in sentence\n",
        "\n",
        " animals = [\"tiger\" , \"lion\" , \" elephant\" , \"deer\" ]\n",
        "\n",
        " 'deer' in animals"
      ]
    },
    {
      "cell_type": "code",
      "execution_count": null,
      "metadata": {
        "id": "oXKQVyXdlYTd"
      },
      "outputs": [],
      "source": [
        " my_data = None\n",
        "\n",
        "  # mydata is None"
      ]
    },
    {
      "cell_type": "code",
      "execution_count": null,
      "metadata": {
        "id": "w2kMLX9hmUH3"
      },
      "outputs": [],
      "source": [
        " # isinstance(60.0, float)"
      ]
    },
    {
      "cell_type": "markdown",
      "metadata": {
        "id": "kA7KkbHunKR3"
      },
      "source": [
        "String formatting\n"
      ]
    },
    {
      "cell_type": "code",
      "execution_count": null,
      "metadata": {
        "colab": {
          "base_uri": "https://localhost:8080/"
        },
        "id": "r6sPWGOKnOfs",
        "outputId": "57873bd6-a12d-4dc8-ad55-2e5fb7a9915a"
      },
      "outputs": [
        {
          "name": "stdout",
          "output_type": "stream",
          "text": [
            "Enter your name: manbika\n",
            "Enter your age: 19\n"
          ]
        }
      ],
      "source": [
        " name = input(\"Enter your name: \")\n",
        " age = input(\"Enter your age: \")\n",
        "\n"
      ]
    },
    {
      "cell_type": "markdown",
      "metadata": {
        "id": "EzK4xCCc33IX"
      },
      "source": [
        "Type validation"
      ]
    },
    {
      "cell_type": "code",
      "execution_count": null,
      "metadata": {
        "colab": {
          "base_uri": "https://localhost:8080/"
        },
        "id": "NdS9AcNA36dz",
        "outputId": "8650e113-086c-477b-e1df-39e9ef9034e7"
      },
      "outputs": [
        {
          "output_type": "stream",
          "name": "stdout",
          "text": [
            "Enter your age: 19\n",
            "your age is:  19\n"
          ]
        }
      ],
      "source": [
        "age = input(\"Enter your age: \")\n",
        "#age = int(age)\n",
        "print(\"your age is: \", age)"
      ]
    },
    {
      "cell_type": "markdown",
      "metadata": {
        "id": "449NZIT18ibo"
      },
      "source": [
        "If conditional"
      ]
    },
    {
      "cell_type": "code",
      "execution_count": null,
      "metadata": {
        "colab": {
          "base_uri": "https://localhost:8080/"
        },
        "id": "U92YBUW38mRv",
        "outputId": "81221e3a-a076-45f4-838a-6d754851f960"
      },
      "outputs": [
        {
          "name": "stdout",
          "output_type": "stream",
          "text": [
            "Enter an animal: cat\n",
            "Animal not found\n"
          ]
        }
      ],
      "source": [
        "animal = input(\"Enter an animal: \")\n",
        "\n",
        "if animal == 'dragon':\n",
        "  print(\"Dragon: roar \")\n",
        "\n",
        "elif animal == 'duck':\n",
        "  print(\"Duck: quack quack\")\n",
        "\n",
        "else:\n",
        "  print(\"Animal not found\")"
      ]
    },
    {
      "cell_type": "markdown",
      "metadata": {
        "id": "Zc6dbMtFAFHz"
      },
      "source": [
        "While loop"
      ]
    },
    {
      "cell_type": "code",
      "execution_count": null,
      "metadata": {
        "colab": {
          "base_uri": "https://localhost:8080/"
        },
        "id": "ffjtTGnTBwXJ",
        "outputId": "2ae30858-e964-41a5-dc0b-bd02582b882b"
      },
      "outputs": [
        {
          "name": "stdout",
          "output_type": "stream",
          "text": [
            "17 * 1 = 17\n",
            "17 * 2 = 34\n",
            "17 * 3 = 51\n",
            "17 * 4 = 68\n",
            "17 * 5 = 85\n",
            "17 * 6 = 102\n",
            "17 * 7 = 119\n",
            "17 * 8 = 136\n",
            "17 * 9 = 153\n",
            "17 * 10 = 170\n"
          ]
        }
      ],
      "source": [
        "n =17\n",
        "\n",
        "i = 1\n",
        "while i <= 10:\n",
        "  product = n * i\n",
        "  print(f\"{n} * {i} = {product}\")\n",
        "  i = i + 1"
      ]
    },
    {
      "cell_type": "code",
      "execution_count": null,
      "metadata": {
        "colab": {
          "base_uri": "https://localhost:8080/"
        },
        "id": "OvCcPNJqDNJ6",
        "outputId": "67c1027c-0fc2-4581-9af7-dbb360488ebc"
      },
      "outputs": [
        {
          "name": "stdout",
          "output_type": "stream",
          "text": [
            "Enter an animal: cat\n",
            "Wrong animal\n"
          ]
        }
      ],
      "source": [
        "# While True:\n",
        "animal = input(\"Enter an animal: \")\n",
        "\n",
        "if animal == \"dragon\":\n",
        "  print(\"you typed correct animal\")\n",
        "\n",
        "\n",
        "else:\n",
        "  print(\"Wrong animal\")\n"
      ]
    },
    {
      "cell_type": "code",
      "execution_count": null,
      "metadata": {
        "id": "9DIX1XCND3z9"
      },
      "outputs": [],
      "source": [
        "# 90-100 Grade: A +\n",
        "# 80-90: A\n",
        "# 70-80: B\n",
        "# 60-70: C\n",
        "# 50-60: D\n",
        "# <50: F\n",
        "\n",
        "score = 50\n",
        "if score >= 90 and score <= 100:\n",
        "  print(\"Grade:A\")\n",
        "\n",
        "\n"
      ]
    },
    {
      "cell_type": "code",
      "execution_count": null,
      "metadata": {
        "colab": {
          "base_uri": "https://localhost:8080/"
        },
        "id": "UsXxMFkxIre5",
        "outputId": "30e82dc5-21ec-4ccc-ebee-2bb807b56b52"
      },
      "outputs": [
        {
          "name": "stdout",
          "output_type": "stream",
          "text": [
            "7\n"
          ]
        }
      ],
      "source": [
        "sentence = \"This is an apple tree\"\n",
        "\n",
        "count = 0\n",
        "for ch in sentence:\n",
        "  #if ch == 'a' or  ch == 'e' or ch=='i'or ch=='o'or ch=='u' :\n",
        "  if ch in 'aeiou':\n",
        "   count += 1\n",
        "\n",
        "print(count)"
      ]
    },
    {
      "cell_type": "code",
      "execution_count": null,
      "metadata": {
        "colab": {
          "base_uri": "https://localhost:8080/"
        },
        "id": "eJJBYyESMwOo",
        "outputId": "d61e50dd-5829-4a16-8f3a-9f7d3ebfe2e7"
      },
      "outputs": [
        {
          "name": "stdout",
          "output_type": "stream",
          "text": [
            "19\n",
            "17\n",
            "15\n",
            "13\n",
            "11\n",
            "9\n",
            "7\n",
            "5\n",
            "3\n"
          ]
        }
      ],
      "source": [
        "for i in range(19,2,-2 ):\n",
        "  print(i)"
      ]
    },
    {
      "cell_type": "code",
      "execution_count": null,
      "metadata": {
        "colab": {
          "base_uri": "https://localhost:8080/"
        },
        "id": "wa5c9VWOGMzI",
        "outputId": "e6297538-70e8-401f-e8b5-e38c2070adbb"
      },
      "outputs": [
        {
          "name": "stdout",
          "output_type": "stream",
          "text": [
            "giraffe\n",
            "rat\n",
            "rabbit\n",
            "tortoise\n"
          ]
        }
      ],
      "source": [
        "animals = [ \"pig\", \"chicken\", \"tiger\", \"lion\", \"giraffe\", \"rat\", \"cheetah\", \"rabbit\", \"tortoise\", \"hyena\"]\n",
        "carnivorous_animals = [\"tiger\", \"lion\", \"cheetah\", \"hyena\"]\n",
        "\n",
        "for animal in animals:\n",
        "  if animal in carnivorous_animals:\n",
        "    continue\n",
        "  print(animal)"
      ]
    },
    {
      "cell_type": "markdown",
      "metadata": {
        "id": "uYYAAk15L02L"
      },
      "source": [
        "For loop"
      ]
    },
    {
      "cell_type": "code",
      "execution_count": null,
      "metadata": {
        "colab": {
          "base_uri": "https://localhost:8080/"
        },
        "id": "i34JpYA3L0Gt",
        "outputId": "a243a3b0-bafa-454d-ea23-2c1ba9184880"
      },
      "outputs": [
        {
          "name": "stdout",
          "output_type": "stream",
          "text": [
            "100 is divisible by 10\n"
          ]
        }
      ],
      "source": [
        "a = 100\n",
        "b = 200\n",
        "\n",
        "n  = 10\n",
        "for i in range (a, b+1):\n",
        "  if i % n == 0:\n",
        "    print(f\"{i} is divisible by {n}\")\n",
        "    break\n",
        "else:\n",
        "    print(\"No number divisible by {} found\".format(n))"
      ]
    },
    {
      "cell_type": "code",
      "execution_count": null,
      "metadata": {
        "colab": {
          "base_uri": "https://localhost:8080/"
        },
        "id": "fHVvOnYpNTW_",
        "outputId": "a9849abd-feb7-4162-b2a2-a74087c63178"
      },
      "outputs": [
        {
          "name": "stdout",
          "output_type": "stream",
          "text": [
            "1 *1 = 1\n",
            "1 *2 = 2\n",
            "1 *3 = 3\n",
            "1 *4 = 4\n",
            "1 *5 = 5\n",
            "1 *6 = 6\n",
            "1 *7 = 7\n",
            "1 *8 = 8\n",
            "1 *9 = 9\n",
            "1 *10 = 10\n",
            "-----------\n",
            "2 *1 = 2\n",
            "2 *2 = 4\n",
            "2 *3 = 6\n",
            "2 *4 = 8\n",
            "2 *5 = 10\n",
            "2 *6 = 12\n",
            "2 *7 = 14\n",
            "2 *8 = 16\n",
            "2 *9 = 18\n",
            "2 *10 = 20\n",
            "-----------\n",
            "3 *1 = 3\n",
            "3 *2 = 6\n",
            "3 *3 = 9\n",
            "3 *4 = 12\n",
            "3 *5 = 15\n",
            "3 *6 = 18\n",
            "3 *7 = 21\n",
            "3 *8 = 24\n",
            "3 *9 = 27\n",
            "3 *10 = 30\n",
            "-----------\n",
            "4 *1 = 4\n",
            "4 *2 = 8\n",
            "4 *3 = 12\n",
            "4 *4 = 16\n",
            "4 *5 = 20\n",
            "4 *6 = 24\n",
            "4 *7 = 28\n",
            "4 *8 = 32\n",
            "4 *9 = 36\n",
            "4 *10 = 40\n",
            "-----------\n"
          ]
        }
      ],
      "source": [
        "for i in range(1, 5):\n",
        "  for j in range(1, 11):\n",
        "    product = i * j\n",
        "    print(f\"{i} *{j} = {product}\")\n",
        "  print(\"-----------\")"
      ]
    },
    {
      "cell_type": "code",
      "execution_count": null,
      "metadata": {
        "colab": {
          "base_uri": "https://localhost:8080/"
        },
        "id": "JTkwDysgPQUw",
        "outputId": "0630bdba-e2f5-40e6-a762-748901e2a4cb"
      },
      "outputs": [
        {
          "data": {
            "text/plain": [
              "[[1, 3, 3], [5, 5, 7], [6, 8, 10]]"
            ]
          },
          "execution_count": 32,
          "metadata": {},
          "output_type": "execute_result"
        }
      ],
      "source": [
        "# 1 2 3     0 1 0     1 3 3\n",
        "# 4 5 6     1 0 1     5 5 7\n",
        "# 7 8 9     -1 0 1    6 8 10\n",
        "\n",
        "m1 = [[1, 2, 3], [4, 5, 6,], [7, 8, 9]]\n",
        "m2 = [[0, 1, 0],[1, 0, 1], [-1, 0, 1]]\n",
        "m3 = []\n",
        "\n",
        "for i in range(len(m1)):\n",
        "  m4 = []\n",
        "  for j in range(len(m1[i])):\n",
        "    m4.append(m1[i][j] +m2[i][j])\n",
        "  m3.append(m4)\n",
        "\n",
        "m3\n"
      ]
    },
    {
      "cell_type": "markdown",
      "metadata": {
        "id": "d32CRRqXW0N5"
      },
      "source": [
        "Classwork question 1"
      ]
    },
    {
      "cell_type": "code",
      "execution_count": null,
      "metadata": {
        "colab": {
          "base_uri": "https://localhost:8080/"
        },
        "id": "LiGBQWFbRpyr",
        "outputId": "961d355e-be21-4d7f-c0eb-163331f3012d"
      },
      "outputs": [
        {
          "name": "stdout",
          "output_type": "stream",
          "text": [
            "Enter a Sentence: Apple is a fruit\n",
            "Enter a character: p\n",
            "p appears 2 times\n"
          ]
        }
      ],
      "source": [
        "# Input\n",
        "Sentence = input(\"Enter a Sentence: \")\n",
        "character = input(\"Enter a character: \")\n",
        "\n",
        "\n",
        "count = 0\n",
        "for ch in Sentence:\n",
        "  if ch == character:\n",
        "   count += 1\n",
        "\n",
        "print (f\"{character} appears {count} times\")"
      ]
    },
    {
      "cell_type": "markdown",
      "metadata": {
        "id": "FlFPLMVAW8Wb"
      },
      "source": [
        "Question:2"
      ]
    },
    {
      "cell_type": "code",
      "execution_count": null,
      "metadata": {
        "colab": {
          "base_uri": "https://localhost:8080/"
        },
        "id": "5dxlYZNAXIf8",
        "outputId": "47a83bc0-16e6-444f-aa4b-80260ac87ca2"
      },
      "outputs": [
        {
          "name": "stdout",
          "output_type": "stream",
          "text": [
            "Enter a number: 2\n",
            "Enter a number: 4\n",
            "Enter a number: 6\n",
            "Enter a number: 8\n",
            "Enter a number: 9\n",
            "largest number is 9\n"
          ]
        }
      ],
      "source": [
        "# input\n",
        "#i have to take 5 input from user\n",
        "#  can do that using for loop\n",
        "\n",
        "largest = 0\n",
        "for i in range(5):\n",
        "  num = int(input(\"Enter a number: \"))\n",
        "  if num > largest:\n",
        "      largest = num\n",
        "\n",
        "print(f\"largest number is {largest}\")"
      ]
    },
    {
      "cell_type": "markdown",
      "metadata": {
        "id": "YKKCJwqGP7gF"
      },
      "source": [
        "*Question* 3"
      ]
    },
    {
      "cell_type": "code",
      "execution_count": null,
      "metadata": {
        "colab": {
          "base_uri": "https://localhost:8080/"
        },
        "id": "tKYHGkhDP-Hy",
        "outputId": "6dc5dc4b-11ff-47c3-954a-24acc021535c"
      },
      "outputs": [
        {
          "name": "stdout",
          "output_type": "stream",
          "text": [
            "Enter the length: 2\n",
            "Enter the breadth: 3\n",
            "Area:6.0\n",
            "Perimeter is 12.0\n"
          ]
        }
      ],
      "source": [
        "length = float(input(\"Enter the length: \"))\n",
        "breadth = float(input(\"Enter the breadth: \"))\n",
        "\n",
        "area = length* breadth\n",
        "perimeter =2 * (length * breadth )\n",
        "\n",
        "print(\"Area:{}\\nPerimeter is {}\".format(area , perimeter))"
      ]
    },
    {
      "cell_type": "markdown",
      "metadata": {
        "id": "t2KJKOjAUOJr"
      },
      "source": [
        "Ouestion: 4"
      ]
    },
    {
      "cell_type": "code",
      "execution_count": null,
      "metadata": {
        "id": "KE2e4vcSmQvD"
      },
      "outputs": [],
      "source": [
        "my_list = [10, 42, 35,-34 ,56,-40]\n",
        "for i in my_list:\n",
        "  fahrenheit = i + 1.8 + 32\n",
        "  print(f\"my_list:{} \\tfahrenheit {}: (my_list , fahrenheit): \")"
      ]
    },
    {
      "cell_type": "code",
      "execution_count": null,
      "metadata": {
        "colab": {
          "base_uri": "https://localhost:8080/"
        },
        "id": "3k19KqCVURyH",
        "outputId": "cc0944dd-a1ed-4186-9a9b-aef9ef655671"
      },
      "outputs": [
        {
          "name": "stdout",
          "output_type": "stream",
          "text": [
            "Enter the name: Manbika\n",
            "Enter your age :19\n",
            "Enter the height: 5.3\n",
            "Enter the salary: 26372\n",
            "Are you a student? yes\n",
            "Hi, Manbika.\n",
            " you are 19 years old. \n",
            "your height is 5.3.\n",
            "you earn Rs.26372.0.\n",
            "your student status is :yes \n"
          ]
        }
      ],
      "source": [
        "# input\n",
        "# I have to take name , age , height , and salary and atudent status(yes/no)\n",
        "name = input(\"Enter the name: \")\n",
        "age = int(input(\"Enter your age :\"))\n",
        "height = float(input(\"Enter the height: \"))\n",
        "salary = float(input(\"Enter the salary: \"))\n",
        "student_status = input(\"Are you a student? \")\n",
        "\n",
        "# processing\n",
        "age = int(age)\n",
        "height = float(height)\n",
        "salary = float(salary)\n",
        "\n",
        "#output\n",
        "sentence = f\"Hi, {name}.\\n you are {age} years old. \\nyour height is {height}.\\nyou earn Rs.{salary}.\\nyour student status is :{student_status} \"\n",
        "print(sentence)\n"
      ]
    },
    {
      "cell_type": "markdown",
      "metadata": {
        "id": "684DUhGPatPx"
      },
      "source": [
        "# Question 4"
      ]
    },
    {
      "cell_type": "code",
      "execution_count": null,
      "metadata": {
        "colab": {
          "base_uri": "https://localhost:8080/"
        },
        "id": "NplScGhKbmUp",
        "outputId": "e56c8884-1f0a-4263-dd07-e0a896a5a3f9"
      },
      "outputs": [
        {
          "name": "stdout",
          "output_type": "stream",
          "text": [
            "enter the radious: 2\n",
            "perimeter of circle:12.56.\n",
            "Area of a circle12.56\n"
          ]
        }
      ],
      "source": [
        "# input\n",
        "# radius in float\n",
        "radius =float(input(\"enter the radious: \"))\n",
        "\n",
        "perimeter = 2 * 3.14 *radius\n",
        "area = 3.14* radius * radius\n",
        "\n",
        "print(\"perimeter of circle:{}.\\nArea of a circle{}\".format(perimeter,area))\n"
      ]
    },
    {
      "cell_type": "markdown",
      "metadata": {
        "id": "Z8Qjy7wVe6EB"
      },
      "source": [
        "Question:5"
      ]
    },
    {
      "cell_type": "code",
      "execution_count": null,
      "metadata": {
        "colab": {
          "base_uri": "https://localhost:8080/"
        },
        "id": "Bdq0vNI6e_I-",
        "outputId": "25ff6f1b-3be8-487d-a6bf-2aaf6dc35190"
      },
      "outputs": [
        {
          "name": "stdout",
          "output_type": "stream",
          "text": [
            "Enter the number : 5\n",
            "120\n"
          ]
        }
      ],
      "source": [
        "# Input (For loop)\n",
        "\n",
        "num = int(input(\"Enter the number : \"))\n",
        "mul = 1\n",
        "# for i in range( num,0,  -1):\n",
        "#  mul = mul * i\n",
        " # print(f\"{i}, {mul}\")\n",
        "\n",
        "mul = 1\n",
        "i = 1\n",
        "while i <= num:\n",
        "  mul = mul * i\n",
        "  i += 1\n",
        "print(mul)\n"
      ]
    },
    {
      "cell_type": "markdown",
      "metadata": {
        "id": "m8AJxGlgZBCe"
      },
      "source": [
        "classwork question no 6"
      ]
    },
    {
      "cell_type": "code",
      "execution_count": null,
      "metadata": {
        "colab": {
          "base_uri": "https://localhost:8080/"
        },
        "id": "6K9qzkbtZM3K",
        "outputId": "8023a522-0f7d-4cfc-b031-570bdfd265c4"
      },
      "outputs": [
        {
          "name": "stdout",
          "output_type": "stream",
          "text": [
            "Enter a number: 54\n",
            "Rem: 4\tSum: 4\tNum: 5\n",
            "Rem: 5\tSum: 9\tNum: 0\n",
            "9\n"
          ]
        }
      ],
      "source": [
        " # Ask the user to enter a number\n",
        " # use a while loop to calculate the sum of digits\n",
        "\n",
        "num = int(input(\"Enter a number: \"))\n",
        "sum = 0\n",
        "while num > 0:\n",
        "  rem = num %  10\n",
        "  sum += rem\n",
        "  num = num //10\n",
        "  print(f\"Rem: {rem}\\tSum: {sum}\\tNum: {num}\")\n",
        "\n",
        "print(sum)"
      ]
    },
    {
      "cell_type": "markdown",
      "metadata": {
        "id": "HPZIQkXgfFlX"
      },
      "source": [
        "Question no 7   "
      ]
    },
    {
      "cell_type": "code",
      "execution_count": null,
      "metadata": {
        "colab": {
          "base_uri": "https://localhost:8080/"
        },
        "id": "KMuRe07OfMiJ",
        "outputId": "24792b34-e8be-47e6-b8ee-456ca34c150b"
      },
      "outputs": [
        {
          "name": "stdout",
          "output_type": "stream",
          "text": [
            "num: 10\tsum: 19\n",
            "num: 6\tsum: 25\n",
            "num: 7\tsum: 32\n",
            "num: 19\tsum: 51\n",
            "num: 18\tsum: 69\n",
            "num: 56\tsum: 125\n",
            "num: -100\tsum: 25\n",
            "num: -89\tsum: -64\n",
            "num: 198\tsum: 134\n",
            "num: 342\tsum: 476\n"
          ]
        }
      ],
      "source": [
        "my_list =[10, 6, 7, 19 ,18, 56, -100, -89, 198,342 ]\n",
        "\n",
        "for num in my_list:\n",
        "  sum = sum + num\n",
        "  print(f\"num: {num}\\tsum: {sum}\")"
      ]
    },
    {
      "cell_type": "markdown",
      "metadata": {
        "id": "va3sUe6ZiI5T"
      },
      "source": [
        "Question no 8"
      ]
    },
    {
      "cell_type": "code",
      "execution_count": null,
      "metadata": {
        "colab": {
          "base_uri": "https://localhost:8080/"
        },
        "id": "3lrqyV7Vi9Yr",
        "outputId": "3e4417c6-3a6c-474a-f018-7060a4032aa7"
      },
      "outputs": [
        {
          "name": "stdout",
          "output_type": "stream",
          "text": [
            "Enter the number5\n",
            "Enter the number7\n",
            "Enter the number8\n",
            "Enter the number1\n",
            "Enter the number2\n",
            "560\n"
          ]
        }
      ],
      "source": [
        "product_num = 1\n",
        "for i in range(1 ,6):\n",
        " num = int(input(\"Enter the number\"))\n",
        " product_num *= num\n",
        "print(product_num)\n"
      ]
    },
    {
      "cell_type": "markdown",
      "metadata": {
        "id": "9uN_H2Uvmgn2"
      },
      "source": [
        "Question 9"
      ]
    },
    {
      "cell_type": "code",
      "execution_count": null,
      "metadata": {
        "colab": {
          "base_uri": "https://localhost:8080/"
        },
        "id": "MT5wa3ccmjEo",
        "outputId": "f3beb249-666a-47f6-a915-1f56e0aded6b"
      },
      "outputs": [
        {
          "name": "stdout",
          "output_type": "stream",
          "text": [
            "enter a num: 1\n",
            "-1\n",
            "enter a num: 3\n",
            "-4\n",
            "enter a num: 4\n",
            "0\n",
            "enter a num: 54\n",
            "54\n",
            "enter a num: 67\n",
            "-13\n"
          ]
        }
      ],
      "source": [
        "sum = 0\n",
        "for i in range(1,6):\n",
        "  num = int(input(\"enter a num: \"))\n",
        "  if num % 2 == 0:\n",
        "    sum += num\n",
        "    print(sum)\n",
        "\n",
        "  elif num % 2 == 1:\n",
        "   sum -= num\n",
        "   print(sum)\n"
      ]
    },
    {
      "cell_type": "markdown",
      "metadata": {
        "id": "1HYD7ye2nnaw"
      },
      "source": [
        "Question 10"
      ]
    },
    {
      "cell_type": "code",
      "execution_count": null,
      "metadata": {
        "colab": {
          "base_uri": "https://localhost:8080/"
        },
        "id": "TOzt3XcBnpvi",
        "outputId": "4da1f40f-5ca5-4c58-f834-e825fcab7015"
      },
      "outputs": [
        {
          "name": "stdout",
          "output_type": "stream",
          "text": [
            "Enter the number1\n",
            "Enter the number-2\n",
            "Enter the number-45\n",
            "Enter the number344\n",
            "Enter the number0\n",
            "Enter the number23\n",
            "3 3\n"
          ]
        }
      ],
      "source": [
        "positive_count = 0\n",
        "Negative_count = 0\n",
        "\n",
        "for i in range (1,7):\n",
        "  num = int(input(\"Enter the number\"))\n",
        "  if num > 0:\n",
        "   count += 1\n",
        "  else:\n",
        "    Negative_count += 1\n",
        "\n",
        "print( positive_count , Negative_count)\n",
        "\n"
      ]
    },
    {
      "cell_type": "markdown",
      "metadata": {
        "id": "SoTVGhuYpl9q"
      },
      "source": [
        "# Hailstone series"
      ]
    },
    {
      "cell_type": "code",
      "execution_count": null,
      "metadata": {
        "colab": {
          "base_uri": "https://localhost:8080/"
        },
        "id": "scMy76Epp1iJ",
        "outputId": "74130548-1237-4e98-e277-b750f88cfc99"
      },
      "outputs": [
        {
          "output_type": "stream",
          "name": "stdout",
          "text": [
            "Enter a number: 0402\n",
            "402, 201, 604, 302, 151, 454, 227, 682, 341, 1024, 512, 256, 128, 64, 32, 16, 8, 4, 2, 1\n"
          ]
        }
      ],
      "source": [
        "num = int(input(\"Enter a number: \"))\n",
        "\n",
        "while num > 1:\n",
        "    print(num, end=\", \")\n",
        "\n",
        "    if num % 2 == 0:\n",
        "        num = num // 2   # use integer division\n",
        "    else:\n",
        "        num = 3 * num + 1\n",
        "\n",
        "print(num)  # finally print 1\n",
        "\n",
        "\n"
      ]
    },
    {
      "cell_type": "markdown",
      "metadata": {
        "id": "HiGzh9out-F6"
      },
      "source": [
        "Chapter=3\n",
        "          Data structure"
      ]
    },
    {
      "cell_type": "markdown",
      "metadata": {
        "id": "62wleL1zzn9A"
      },
      "source": [
        "Lists"
      ]
    },
    {
      "cell_type": "markdown",
      "metadata": {
        "id": "BRKsN6-Rzpzp"
      },
      "source": [
        "Creation"
      ]
    },
    {
      "cell_type": "code",
      "execution_count": null,
      "metadata": {
        "colab": {
          "base_uri": "https://localhost:8080/"
        },
        "collapsed": true,
        "id": "GjADUaonztQa",
        "outputId": "f98c66b5-8c8a-44ae-8ba3-b0aa87a6bf39"
      },
      "outputs": [
        {
          "data": {
            "text/plain": [
              "[2, 4, 9]"
            ]
          },
          "execution_count": 7,
          "metadata": {},
          "output_type": "execute_result"
        }
      ],
      "source": [
        "l1 = []\n",
        "l2 = [10, 4, 5, 18, 79, \"apple\", \"mango\",  \"grapes\"]\n",
        "\n",
        "l3 = (list)\n",
        "l4 = list([2, 4, 9])\n",
        "l5 = list(\"This is an apple tree\")\n",
        "l4"
      ]
    },
    {
      "cell_type": "code",
      "execution_count": null,
      "metadata": {
        "colab": {
          "base_uri": "https://localhost:8080/",
          "height": 35
        },
        "id": "a2haEm7w0lKq",
        "outputId": "0ad5fd4f-f127-4dbb-d269-a1af2e53d36d"
      },
      "outputs": [
        {
          "data": {
            "application/vnd.google.colaboratory.intrinsic+json": {
              "type": "string"
            },
            "text/plain": [
              "'grape'"
            ]
          },
          "execution_count": 11,
          "metadata": {},
          "output_type": "execute_result"
        }
      ],
      "source": [
        "fruits = [\"Apple\", \"Mango\", \"Watermelon\", \"grape\", \"pineapple\", \"cherry\", \"guava\", \"dragon friut\", \"banana\"]\n",
        "\n",
        "fruits[6]\n",
        "fruits[-3]\n",
        "fruits[7]\n",
        "fruits[3]\n",
        "\n",
        "\n",
        "# fruits[-4] into xyz the print will be xyz not cherry\n",
        "\n"
      ]
    },
    {
      "cell_type": "code",
      "execution_count": null,
      "metadata": {
        "colab": {
          "base_uri": "https://localhost:8080/",
          "height": 35
        },
        "id": "boDCDeat1Y8r",
        "outputId": "aef24315-0465-46a3-cab9-d93b925d4c51"
      },
      "outputs": [
        {
          "data": {
            "application/vnd.google.colaboratory.intrinsic+json": {
              "type": "string"
            },
            "text/plain": [
              "' '"
            ]
          },
          "execution_count": 5,
          "metadata": {},
          "output_type": "execute_result"
        }
      ],
      "source": [
        "line = \"This is a fruit tree\"\n",
        "line[8]\n",
        "\n",
        "line = \"This is our python programming class\"\n",
        "line[11]"
      ]
    },
    {
      "cell_type": "markdown",
      "metadata": {
        "id": "afggkNNe4V_o"
      },
      "source": [
        "Slicing"
      ]
    },
    {
      "cell_type": "code",
      "execution_count": null,
      "metadata": {
        "colab": {
          "base_uri": "https://localhost:8080/"
        },
        "id": "aTl7UyYE4Yck",
        "outputId": "122319c8-72d0-498e-dfee-c74ab2578ed9"
      },
      "outputs": [
        {
          "data": {
            "text/plain": [
              "[10, 20, 105, 2, 5, 86, 70]"
            ]
          },
          "execution_count": 8,
          "metadata": {},
          "output_type": "execute_result"
        }
      ],
      "source": [
        "nums = [10, 20, 30, 40, 50, 60, 70]\n",
        "nums[5] = 86\n",
        "nums[2] = 105\n",
        "nums[3] = 2\n",
        "nums[4] = 5\n",
        "nums"
      ]
    },
    {
      "cell_type": "code",
      "execution_count": null,
      "metadata": {
        "colab": {
          "base_uri": "https://localhost:8080/"
        },
        "id": "S0UsnOYe5MNk",
        "outputId": "e86b8a29-0fb2-432c-f6ca-3847f2b9f545"
      },
      "outputs": [
        {
          "data": {
            "text/plain": [
              "[70, 60, 50, 40, 30, 20, 10]"
            ]
          },
          "execution_count": 20,
          "metadata": {},
          "output_type": "execute_result"
        }
      ],
      "source": [
        "nums = [10, 20, 30, 40, 50, 60, 70]\n",
        "nums[3:7]\n",
        "nums[3:7:3]\n",
        "nums[1:6:4]\n",
        "nums[1:-3]\n",
        "nums[-3:]\n",
        "nums[4:4]\n",
        "nums[4:-4:-2]\n",
        "nums[::-1]"
      ]
    },
    {
      "cell_type": "code",
      "execution_count": null,
      "metadata": {
        "colab": {
          "base_uri": "https://localhost:8080/",
          "height": 35
        },
        "id": "IhD7QYlw7W9A",
        "outputId": "564ce120-7dbf-4e57-e533-f4f5c521d1b2"
      },
      "outputs": [
        {
          "data": {
            "application/vnd.google.colaboratory.intrinsic+json": {
              "type": "string"
            },
            "text/plain": [
              "'der si elppa'"
            ]
          },
          "execution_count": 25,
          "metadata": {},
          "output_type": "execute_result"
        }
      ],
      "source": [
        "mystr = \"apple is red\"\n",
        "mystr[3:8:2]\n",
        "mystr[::-1]\n"
      ]
    },
    {
      "cell_type": "code",
      "execution_count": null,
      "metadata": {
        "colab": {
          "base_uri": "https://localhost:8080/"
        },
        "id": "uchXWyS68TP3",
        "outputId": "6c4ad168-dd2f-4933-f46b-43edd12b30c6"
      },
      "outputs": [
        {
          "name": "stdout",
          "output_type": "stream",
          "text": [
            "not palindrome\n"
          ]
        }
      ],
      "source": [
        "word = \"apple\"\n",
        "if word == word[::-1]:\n",
        "  print(\"palindrome\")\n",
        "else:\n",
        "  print(\"not palindrome\")"
      ]
    },
    {
      "cell_type": "markdown",
      "metadata": {
        "id": "LohRsdPn9RX0"
      },
      "source": [
        "List methods"
      ]
    },
    {
      "cell_type": "code",
      "execution_count": null,
      "metadata": {
        "colab": {
          "base_uri": "https://localhost:8080/"
        },
        "id": "v03A-Mhl9YYd",
        "outputId": "fe6d34a5-5584-44d0-d0aa-23b817a87c89"
      },
      "outputs": [
        {
          "data": {
            "text/plain": [
              "['pineapple', 'jackfruit', 'orange', 'mango', 'banana', 'apple']"
            ]
          },
          "execution_count": 2,
          "metadata": {},
          "output_type": "execute_result"
        }
      ],
      "source": [
        "fruits = [\"pineapple\", \"jackfruit\", \"orange\", \"mango\", \"banana\"]\n",
        "# fruits.append(\"apple\")\n",
        " # fruits.append([\"grape\", \"guava\"])\n",
        " # fruits\n",
        "\n",
        " # val = fruits.pop(0)\n",
        " # val\n",
        " # print(val)\n",
        "\n",
        "# fruits.extend([\"apple\",\"cherry\"])\n",
        "\n",
        "# fruits.reverse()\n",
        "\n",
        "# fruits.sort(reverse=True)\n",
        "\n",
        "fruits"
      ]
    },
    {
      "cell_type": "markdown",
      "metadata": {
        "id": "LhPUNxHFBR-_"
      },
      "source": [
        "Question 11"
      ]
    },
    {
      "cell_type": "code",
      "execution_count": null,
      "metadata": {
        "colab": {
          "base_uri": "https://localhost:8080/"
        },
        "id": "OJZlULV_BU19",
        "outputId": "24029146-0f58-47fb-896b-17f9026cedb1"
      },
      "outputs": [
        {
          "data": {
            "text/plain": [
              "[0, 1, 2, 3, 4, 5, 6, 7, 8, 9, 10, 11, 12, 13, 14, 15, 16, 17, 18, 19]"
            ]
          },
          "execution_count": 59,
          "metadata": {},
          "output_type": "execute_result"
        }
      ],
      "source": [
        "num = []\n",
        "for i in range(20):\n",
        "  num.append(i)\n",
        "num\n"
      ]
    },
    {
      "cell_type": "code",
      "execution_count": null,
      "metadata": {
        "colab": {
          "base_uri": "https://localhost:8080/"
        },
        "id": "iPSBhpo8DrSH",
        "outputId": "6d7c4b88-a6c1-4473-9a26-70e4455c373d"
      },
      "outputs": [
        {
          "data": {
            "text/plain": [
              "[16, 20, 25, 32, 35]"
            ]
          },
          "execution_count": 66,
          "metadata": {},
          "output_type": "execute_result"
        }
      ],
      "source": [
        "nums = [11, 15, 20, 27, 30]\n",
        "for i in range (len(nums)):\n",
        "  nums[i] += 5\n",
        "nums"
      ]
    },
    {
      "cell_type": "code",
      "execution_count": null,
      "metadata": {
        "colab": {
          "base_uri": "https://localhost:8080/"
        },
        "id": "OBJtucrEEkFi",
        "outputId": "47b8fe83-b3e9-47bd-e591-45b9ce04853a"
      },
      "outputs": [
        {
          "data": {
            "text/plain": [
              "[2, 4, 6, 8, 10, 12, 14, 16, 18, 20]"
            ]
          },
          "execution_count": 70,
          "metadata": {},
          "output_type": "execute_result"
        }
      ],
      "source": [
        "nums = [i for i in range(1,21) if i % 2 ==0 ]\n",
        "nums\n"
      ]
    },
    {
      "cell_type": "code",
      "execution_count": null,
      "metadata": {
        "colab": {
          "base_uri": "https://localhost:8080/"
        },
        "id": "pj_dRX4HFoKI",
        "outputId": "4747bdf4-1a50-4c9f-e92f-c61637b2af17"
      },
      "outputs": [
        {
          "data": {
            "text/plain": [
              "['apple', 'grape', 'ginger', 'tree']"
            ]
          },
          "execution_count": 78,
          "metadata": {},
          "output_type": "execute_result"
        }
      ],
      "source": [
        "fruits = [\"mango\", \"apple\", \"banana\", \"grape\", \"ginger\", \"tree\"]\n",
        "\n",
        "[fruit for fruit  in fruits if 'e' in fruit]\n",
        "\n"
      ]
    },
    {
      "cell_type": "markdown",
      "metadata": {
        "id": "N2sQv344AD8q"
      },
      "source": [
        "Tuples"
      ]
    },
    {
      "cell_type": "code",
      "execution_count": null,
      "metadata": {
        "colab": {
          "base_uri": "https://localhost:8080/"
        },
        "id": "NJkBdzYzAIaP",
        "outputId": "8f06f8b1-7562-4c1c-f583-f5d13b160a09"
      },
      "outputs": [
        {
          "data": {
            "text/plain": [
              "('t', 'h', 'i', 's', ' ', 'i', 's', ' ', 'a', ' ', 't', 'r', 'e', 'e')"
            ]
          },
          "execution_count": 4,
          "metadata": {},
          "output_type": "execute_result"
        }
      ],
      "source": [
        "t1 = ()\n",
        "t2 = ('1', 1.02, 4.55, 6.77, None, 15>30, True, (1, 2, 3))\n",
        "\n",
        "t3 = tuple()\n",
        "t4 = tuple([1, 4, \"apple\"])\n",
        "t5 = tuple(\"this is a tree\")\n",
        "t5"
      ]
    },
    {
      "cell_type": "code",
      "execution_count": null,
      "metadata": {
        "colab": {
          "base_uri": "https://localhost:8080/"
        },
        "id": "UZt7MjweCUl9",
        "outputId": "1fe8afd3-6a71-474d-e503-d10a840391ac"
      },
      "outputs": [
        {
          "data": {
            "text/plain": [
              "1"
            ]
          },
          "execution_count": 11,
          "metadata": {},
          "output_type": "execute_result"
        }
      ],
      "source": [
        "t2 = [\"mango\", \"apple\", \"banana\", \"grape\", \"ginger\", \"tree\"]\n",
        "t2.count('banana')"
      ]
    },
    {
      "cell_type": "markdown",
      "metadata": {
        "id": "Wr3IzeDDCx5x"
      },
      "source": [
        "Tuple unpackimg"
      ]
    },
    {
      "cell_type": "code",
      "execution_count": null,
      "metadata": {
        "colab": {
          "base_uri": "https://localhost:8080/",
          "height": 35
        },
        "id": "rGlqrkNfC2rv",
        "outputId": "01cd52c2-8869-44d6-b5e4-c2ce678159b1"
      },
      "outputs": [
        {
          "data": {
            "application/vnd.google.colaboratory.intrinsic+json": {
              "type": "string"
            },
            "text/plain": [
              "'red'"
            ]
          },
          "execution_count": 9,
          "metadata": {},
          "output_type": "execute_result"
        }
      ],
      "source": [
        "colours = tuple([\"red\", \"green\", \"blue\"])\n",
        "a, b, c = colours\n",
        "a"
      ]
    },
    {
      "cell_type": "code",
      "execution_count": null,
      "metadata": {
        "colab": {
          "base_uri": "https://localhost:8080/"
        },
        "id": "6VIPu467DiSF",
        "outputId": "c321a223-fc7f-4768-b4d2-64ce7f2f93b8"
      },
      "outputs": [
        {
          "data": {
            "text/plain": [
              "(43, 23)"
            ]
          },
          "execution_count": 12,
          "metadata": {},
          "output_type": "execute_result"
        }
      ],
      "source": [
        "x = 43\n",
        "y =23\n",
        "\n",
        "t= x, y\n",
        "t"
      ]
    },
    {
      "cell_type": "code",
      "execution_count": null,
      "metadata": {
        "colab": {
          "base_uri": "https://localhost:8080/"
        },
        "id": "cZeKvJHDDoMF",
        "outputId": "ad7409af-ebf9-4399-f026-e5895bd66912"
      },
      "outputs": [
        {
          "name": "stdout",
          "output_type": "stream",
          "text": [
            "24 34\n"
          ]
        }
      ],
      "source": [
        "x = 34\n",
        "y = 24\n",
        "temp = x\n",
        "x = y\n",
        "y = temp\n",
        "print(x,y)"
      ]
    },
    {
      "cell_type": "code",
      "execution_count": null,
      "metadata": {
        "colab": {
          "base_uri": "https://localhost:8080/"
        },
        "id": "CRS-c_flD-Pl",
        "outputId": "06619bdd-f179-4765-f468-2b469acd8f0e"
      },
      "outputs": [
        {
          "name": "stdout",
          "output_type": "stream",
          "text": [
            "42 23\n"
          ]
        }
      ],
      "source": [
        "x = 23\n",
        "y = 42\n",
        "x , y = y , x\n",
        "print(x,y)"
      ]
    },
    {
      "cell_type": "markdown",
      "metadata": {
        "id": "McV_Gi_qEpsU"
      },
      "source": [
        "Looping through tupels"
      ]
    },
    {
      "cell_type": "code",
      "execution_count": null,
      "metadata": {
        "colab": {
          "base_uri": "https://localhost:8080/"
        },
        "id": "4c8MBjsFEvQO",
        "outputId": "272d94b1-34ae-4b25-e02d-f35d95292442"
      },
      "outputs": [
        {
          "name": "stdout",
          "output_type": "stream",
          "text": [
            "blue\n"
          ]
        }
      ],
      "source": [
        "colors = tuple({\"red\", \"green\", \"blue\", \"yellow\", \"cyan\", \"white\", \"black\"})\n",
        "for color in colours :\n",
        "  if color[-1] == 'e':\n",
        "\n",
        "   print(color)"
      ]
    },
    {
      "cell_type": "markdown",
      "metadata": {
        "id": "vnXzvBa6HQut"
      },
      "source": [
        "Sets"
      ]
    },
    {
      "cell_type": "code",
      "execution_count": null,
      "metadata": {
        "colab": {
          "base_uri": "https://localhost:8080/"
        },
        "id": "1uvp0428HSHb",
        "outputId": "be4a0f81-722e-4022-e765-9966a3fd780c"
      },
      "outputs": [
        {
          "data": {
            "text/plain": [
              "{3, 10, 20, 30, 40, 50}"
            ]
          },
          "execution_count": 23,
          "metadata": {},
          "output_type": "execute_result"
        }
      ],
      "source": [
        "s1 = set()\n",
        "s2 = {1, 2, 3, 4 ,'a', 1, 2, 3, 4, }\n",
        "my_list = [10, 20 ,3 , 20, 40, 50, 30, 40,]\n",
        "s3 = set(my_list)\n",
        "s3\n",
        "\n"
      ]
    },
    {
      "cell_type": "code",
      "execution_count": null,
      "metadata": {
        "colab": {
          "base_uri": "https://localhost:8080/"
        },
        "id": "7HJ3fvgFLLhk",
        "outputId": "119f1ebd-6c63-4011-9f2b-410155bab549"
      },
      "outputs": [
        {
          "data": {
            "text/plain": [
              "4"
            ]
          },
          "execution_count": 24,
          "metadata": {},
          "output_type": "execute_result"
        }
      ],
      "source": [
        "myset = ([\"red\", \"green\", \"blue\", \"purple\"])\n",
        "len(myset)"
      ]
    },
    {
      "cell_type": "code",
      "execution_count": null,
      "metadata": {
        "colab": {
          "base_uri": "https://localhost:8080/"
        },
        "id": "mwQdPGjkLZtS",
        "outputId": "12e2d9cb-f9cc-49c5-fafd-b883dbc9b6f4"
      },
      "outputs": [
        {
          "name": "stdout",
          "output_type": "stream",
          "text": [
            "red\n",
            "green\n",
            "blue\n",
            "purple\n"
          ]
        }
      ],
      "source": [
        "for colour in myset:\n",
        "  print(colour)"
      ]
    },
    {
      "cell_type": "markdown",
      "metadata": {
        "id": "DDZTUWraLmws"
      },
      "source": [
        "Set methods"
      ]
    },
    {
      "cell_type": "code",
      "execution_count": null,
      "metadata": {
        "colab": {
          "base_uri": "https://localhost:8080/"
        },
        "id": "uC8lHL_tLqfB",
        "outputId": "72b242ee-8d21-47af-d622-ae98b0d687fb"
      },
      "outputs": [
        {
          "data": {
            "text/plain": [
              "{1, 2, 10, 20, 30, 34, 40, 56}"
            ]
          },
          "execution_count": 42,
          "metadata": {},
          "output_type": "execute_result"
        }
      ],
      "source": [
        "nums = {10, 20, 30, 34, 40, 34}\n",
        "\n",
        "# nums.add(100)\n",
        "# nums.add((80, 90, 300))\n",
        "# nums.add(\"apple\")\n",
        "\n",
        "# nums.remove(10)\n",
        "# nums.remove(30)\n",
        "\n",
        "# nums.pop()\n",
        "# nums.pop()\n",
        "\n",
        "#nums.discard(40)\n",
        "\n",
        "nums.update({1, 2, 34,56,56})\n",
        "nums"
      ]
    },
    {
      "cell_type": "code",
      "execution_count": null,
      "metadata": {
        "colab": {
          "base_uri": "https://localhost:8080/"
        },
        "id": "HWtf2BhlNd7H",
        "outputId": "19b37553-f7e9-482b-9c3f-2646c8f7d21d"
      },
      "outputs": [
        {
          "data": {
            "text/plain": [
              "True"
            ]
          },
          "execution_count": 44,
          "metadata": {},
          "output_type": "execute_result"
        }
      ],
      "source": [
        "nums = {10, 30,44, 49, 32, 34, 32}\n",
        "nums.issubset(nums)"
      ]
    },
    {
      "cell_type": "code",
      "execution_count": null,
      "metadata": {
        "colab": {
          "base_uri": "https://localhost:8080/"
        },
        "id": "a4f9KQcdOF_x",
        "outputId": "2e819cd8-e683-43b9-c00e-8d666a1f2e1e"
      },
      "outputs": [
        {
          "data": {
            "text/plain": [
              "{2, 4, 6, 7}"
            ]
          },
          "execution_count": 54,
          "metadata": {},
          "output_type": "execute_result"
        }
      ],
      "source": [
        "s1 = {1, 2, 3,4}\n",
        "s2 = {1, 6, 7, 3,}\n",
        "# s1.union(s2)\n",
        "#s1|s2\n",
        "\n",
        "#s1.intersection(s2)\n",
        "#s1 & s2\n",
        "\n",
        "#s1.difference(s2)\n",
        "#s1 - s2\n",
        "\n",
        "#s1.symmetric_difference(s2)\n",
        "#s1^s2"
      ]
    },
    {
      "cell_type": "markdown",
      "metadata": {
        "id": "bCQfDB7lPYkC"
      },
      "source": [
        "Frozenset"
      ]
    },
    {
      "cell_type": "code",
      "execution_count": null,
      "metadata": {
        "colab": {
          "base_uri": "https://localhost:8080/"
        },
        "id": "I0lw4Z_UPbGb",
        "outputId": "3e6b3882-cb18-44b7-d398-4075c72e1117"
      },
      "outputs": [
        {
          "data": {
            "text/plain": [
              "frozenset({10, 20, 30, 40, 50, 60, 70})"
            ]
          },
          "execution_count": 57,
          "metadata": {},
          "output_type": "execute_result"
        }
      ],
      "source": [
        "fsl = frozenset({1, 3,  5, 7, 8, 9, 9})\n",
        "fs2 = frozenset({10, 20, 30, 40, 50, 60, 70})\n",
        "fs3 = frozenset()\n",
        "fs2\n"
      ]
    },
    {
      "cell_type": "code",
      "execution_count": null,
      "metadata": {
        "colab": {
          "base_uri": "https://localhost:8080/"
        },
        "id": "dvWF4LpNRWMb",
        "outputId": "c28e4fb7-62d6-4875-f580-074e8c684628"
      },
      "outputs": [
        {
          "data": {
            "text/plain": [
              "frozenset({1, 3, 5, 7, 8, 9, 10, 20, 30, 40, 50, 60, 70})"
            ]
          },
          "execution_count": 61,
          "metadata": {},
          "output_type": "execute_result"
        }
      ],
      "source": [
        "fsl = frozenset({1, 3,  5, 7, 8, 9, 9})\n",
        "fs2 = frozenset({10, 20, 30, 40, 50, 60, 70})\n",
        "\n",
        "# fsl.union(fs2)\n",
        "\n",
        "# fsl.difference(fs2)\n",
        "\n",
        "# fsl.intersection(fs2)\n",
        "\n",
        "fsl.symmetric_difference(fs2)\n"
      ]
    },
    {
      "cell_type": "markdown",
      "metadata": {
        "id": "Wi0Wn8gHJ5NX"
      },
      "source": [
        "Dictionaries"
      ]
    },
    {
      "cell_type": "code",
      "execution_count": null,
      "metadata": {
        "colab": {
          "base_uri": "https://localhost:8080/"
        },
        "id": "jOxJtSYrJ9E1",
        "outputId": "e4ac0626-5bcf-4d07-aa34-6fd652829ace"
      },
      "outputs": [
        {
          "data": {
            "text/plain": [
              "{'biscuits': 20,\n",
              " 'rice': ' 10 kg',\n",
              " 'daal': '5 kg',\n",
              " 'toothpaste': 500,\n",
              " 'chicken': 1.6,\n",
              " 'shampoo': {'sunsilk': 10, 'dove': {'conditionar': 3, 'facewash': 4}},\n",
              " ' daal': '15 kg',\n",
              " 'noodles': {'current': 5, 'wai wai': 20}}"
            ]
          },
          "execution_count": 15,
          "metadata": {},
          "output_type": "execute_result"
        }
      ],
      "source": [
        "d1 ={}\n",
        "d2 = dict()\n",
        "\n",
        "grocery = {\n",
        "    \"biscuits\": 20,\n",
        "    \"soap\": 10,\n",
        "    \"rice\": \" 10 kg\",\n",
        "    \"daal\": \"5 kg\",\n",
        "    \"toothpaste\": 5,\n",
        "    \"chicken\": 1.6,\n",
        "    \"shampoo\": {\n",
        "        \"sunsilk\":10,\n",
        "        \"dove\":{\n",
        "            \"conditionar\": 3,\n",
        "            \"facewash\": 4,\n",
        "        }\n",
        "    }\n",
        "\n",
        "\n",
        "}\n",
        "# grocery[\"toothpaste\"] = 500\n",
        "# grocery[\" daal\"] = \"15 kg\"\n",
        "\n",
        "# grocery[\"noodles\"] = {\n",
        "#     \"current\": 5,\n",
        "#     \"wai wai\": 20,\n",
        "#}\n",
        "# del grocery[\"soap\"]\n",
        "grocery"
      ]
    },
    {
      "cell_type": "code",
      "execution_count": null,
      "metadata": {
        "colab": {
          "base_uri": "https://localhost:8080/"
        },
        "id": "Bu80r-PqNSyj",
        "outputId": "8378723c-89f2-423f-e5c3-966c6987b0d5"
      },
      "outputs": [
        {
          "data": {
            "text/plain": [
              "{'apple': 20,\n",
              " 20: 40,\n",
              " 3.15: 'mango',\n",
              " None: 1.243,\n",
              " True: 'that',\n",
              " False: 5.55,\n",
              " (1, 4, 7): 'tuple',\n",
              " frozenset({1, 'a', 'p'}): ['a', 'b', 'c']}"
            ]
          },
          "execution_count": 7,
          "metadata": {},
          "output_type": "execute_result"
        }
      ],
      "source": [
        "from typing import FrozenSet\n",
        "d4 = {\n",
        "    \"apple\":20,\n",
        "    20:40,\n",
        "    3.15: \"mango\",\n",
        "    None: 1.243,\n",
        "    True: \"that\",\n",
        "    False: 5.55,\n",
        "    (1, 4, 7): \"tuple\",\n",
        "    frozenset({1, 'a', 'p'}):[\"a\", \"b\", \"c\"]\n",
        "\n",
        "}\n",
        "d4"
      ]
    },
    {
      "cell_type": "code",
      "execution_count": null,
      "metadata": {
        "colab": {
          "base_uri": "https://localhost:8080/"
        },
        "id": "O2o2azDKRVlH",
        "outputId": "69178c90-2e87-4f5f-95cc-25c44739060d"
      },
      "outputs": [
        {
          "output_type": "stream",
          "name": "stdout",
          "text": [
            "biscuits\n",
            "soap\n",
            "rice\n",
            "daal\n",
            "toothpaste\n",
            "chicken\n",
            "shampoo\n"
          ]
        },
        {
          "output_type": "execute_result",
          "data": {
            "text/plain": [
              "{'biscuits': 20,\n",
              " 'soap': 10,\n",
              " 'rice': ' 10 kg',\n",
              " 'daal': '5 kg',\n",
              " 'toothpaste': 5,\n",
              " 'chicken': 1.6,\n",
              " 'shampoo': {'sunsilk': 10, 'dove': {'conditionar': 3, 'facewash': 4}}}"
            ]
          },
          "metadata": {},
          "execution_count": 6
        }
      ],
      "source": [
        "d1 ={}\n",
        "d2 = dict()\n",
        "\n",
        "grocery = {\n",
        "    \"biscuits\": 20,\n",
        "    \"soap\": 10,\n",
        "    \"rice\": \" 10 kg\",\n",
        "    \"daal\": \"5 kg\",\n",
        "    \"toothpaste\": 5,\n",
        "    \"chicken\": 1.6,\n",
        "    \"shampoo\": {\n",
        "        \"sunsilk\":10,\n",
        "        \"dove\":{\n",
        "            \"conditionar\": 3,\n",
        "            \"facewash\": 4,\n",
        "        }\n",
        "    }\n",
        "\n",
        "\n",
        "}\n",
        "# grocery.get(\"daal\")\n",
        "# print(grocery.get(\"noodles\"))\n",
        "\n",
        "# val = grocery.pop(\"rice\")\n",
        "# print(val)\n",
        "\n",
        "# grocery.update({\"chicken\": '3kg', \"daal\": '4', \"soap\": 10})\n",
        "for var in grocery.keys():\n",
        "  print(var)\n",
        "\n",
        "grocery"
      ]
    },
    {
      "cell_type": "code",
      "source": [
        "\n",
        "# given a list of integers\n",
        "#list1 [1, 8, 6, 17, 25, 10, 30, 18, 77, 31, 88, 99, 105, 202, 72\n",
        "\n",
        "# create a new list that contains all the numbers in list whiich are divisible by 3 using list comprenhensive\n",
        "# sort the new list in assending Ordered\n",
        "# print the new list]\n",
        "\n",
        "list = [1, 8, 6, 17, 25, 10, 30, 18, 77, 31, 88, 99, 105, 202, 72 ]\n",
        "#for list divisible by 3\n",
        "divisible_by_3 = [num for num in list if num % 3 == 0]\n",
        "\n",
        "\n",
        "# Sort the new list in ascending order\n",
        "divisible_by_3.sort()\n",
        "\n",
        "# Print the new list\n",
        "print(divisible_by_3)"
      ],
      "metadata": {
        "colab": {
          "base_uri": "https://localhost:8080/"
        },
        "id": "8WzKYJkoTGR3",
        "outputId": "336ddb30-0bc6-4f6c-b498-c2c7aea162fa"
      },
      "execution_count": null,
      "outputs": [
        {
          "output_type": "stream",
          "name": "stdout",
          "text": [
            "[6, 18, 30, 72, 99, 105]\n"
          ]
        }
      ]
    },
    {
      "cell_type": "markdown",
      "source": [
        "Dictionary comprehensive"
      ],
      "metadata": {
        "id": "C-X1giB1Yj-E"
      }
    },
    {
      "cell_type": "code",
      "source": [
        " #list = [1, 8, 6, 17, 25, 10, 30, 18, 77, 31, 88, 99, 105, 202, 72 ]\n",
        "# {num: num** 2 for num in list1 if num %3 == 0}\n",
        "\n",
        "list1 = [1, 8, 6, 17, 25, 10, 30, 18, 77, 31, 88, 99, 105, 202, 72 ]\n",
        "list2 = {}\n",
        "for i in list1:\n",
        "   if i % 3 == 0:\n",
        "    list2[i] = i ** 2\n",
        "list2\n"
      ],
      "metadata": {
        "colab": {
          "base_uri": "https://localhost:8080/"
        },
        "id": "AkRznKTHYqzC",
        "outputId": "c7b82961-e66c-4be3-a807-d9c90085d2a5"
      },
      "execution_count": null,
      "outputs": [
        {
          "output_type": "execute_result",
          "data": {
            "text/plain": [
              "{6: 36, 30: 900, 18: 324, 99: 9801, 105: 11025, 72: 5184}"
            ]
          },
          "metadata": {},
          "execution_count": 15
        }
      ]
    },
    {
      "cell_type": "code",
      "source": [
        "# there is a dictionary containing employee salaries\n",
        "employees = {\n",
        "    \"sujan\": 1000,\n",
        "    \"aryan\": 1200,\n",
        "    \"pujan\": 700,\n",
        "    \"pranisha\":400,\n",
        "    \"keshav\" : 500,\n",
        "    \"Manbika\" : 450,\n",
        "    \"sunandha\" : 600,\n",
        "}\n",
        "# create a new dictionary containing those employees who earn > 550 using dictionary comprenhension\n",
        "# print the dictionary\n",
        "\n",
        "high_earner = {name: salary for name, salary in employees.items() if salary > 550}\n",
        "\n",
        "print(high_earner)\n",
        "\n"
      ],
      "metadata": {
        "colab": {
          "base_uri": "https://localhost:8080/"
        },
        "id": "aPwGOOhNbaNp",
        "outputId": "5670fdec-6b9f-4556-ac53-6312354c3004"
      },
      "execution_count": null,
      "outputs": [
        {
          "output_type": "stream",
          "name": "stdout",
          "text": [
            "{'sujan': 1000, 'aryan': 1200, 'pujan': 700, 'sunandha': 600}\n"
          ]
        }
      ]
    },
    {
      "cell_type": "code",
      "source": [
        "employees = {\n",
        "    \"sujan\": 1000,\n",
        "    \"aryan\": 1200,\n",
        "    \"pujan\": 700,\n",
        "    \"pranisha\": 400,\n",
        "    \"keshav\": 500,\n",
        "    \"Manbika\": 450,\n",
        "    \"sunandha\": 600,\n",
        "}\n",
        "\n",
        "high_earners = {}\n",
        "\n",
        "for name, salary in employees.items():\n",
        "  if salary > 550:\n",
        "\n",
        "   high_earners[name] = salary\n",
        "print(high_earner)\n",
        "\n",
        "\n",
        "\n",
        "\n",
        "\n"
      ],
      "metadata": {
        "colab": {
          "base_uri": "https://localhost:8080/"
        },
        "id": "brwjZOsGfHGQ",
        "outputId": "11d2a3c8-a010-49be-e77a-c4c1ed75d8cd"
      },
      "execution_count": null,
      "outputs": [
        {
          "output_type": "stream",
          "name": "stdout",
          "text": [
            "{'sujan': 1000, 'aryan': 1200, 'pujan': 700, 'sunandha': 600}\n"
          ]
        }
      ]
    },
    {
      "cell_type": "markdown",
      "source": [
        "Chapter = 4\n"
      ],
      "metadata": {
        "id": "hJmra0wwivhk"
      }
    },
    {
      "cell_type": "code",
      "source": [
        "def greeting(name):\n",
        "  print(f\"good morning, {name}\")\n",
        "\n",
        "  #greeting(\"user\")\n"
      ],
      "metadata": {
        "id": "VVKIjfGYizt6"
      },
      "execution_count": null,
      "outputs": []
    },
    {
      "cell_type": "code",
      "source": [
        "greeting()"
      ],
      "metadata": {
        "colab": {
          "base_uri": "https://localhost:8080/"
        },
        "id": "TE2r0uX2koj-",
        "outputId": "7cf586ee-1648-4782-ec13-7509d0d730fd"
      },
      "execution_count": null,
      "outputs": [
        {
          "output_type": "stream",
          "name": "stdout",
          "text": [
            "good morning, user\n"
          ]
        }
      ]
    },
    {
      "cell_type": "code",
      "source": [
        "def calculator (a , b):\n",
        "  if b == 0:\n",
        "    return 0 , 0\n",
        "  return a * b, a // b , a + b\n",
        "\n"
      ],
      "metadata": {
        "id": "x0U76WayfDnW"
      },
      "execution_count": null,
      "outputs": []
    },
    {
      "cell_type": "code",
      "source": [
        "product, quotient  = calculator (400 , 67 )\n",
        "print(product)\n",
        "print(quotient)"
      ],
      "metadata": {
        "colab": {
          "base_uri": "https://localhost:8080/"
        },
        "id": "2VDASyadhuiK",
        "outputId": "7e903c33-a0a9-4a45-fe8c-a38ff81632d8"
      },
      "execution_count": null,
      "outputs": [
        {
          "output_type": "stream",
          "name": "stdout",
          "text": [
            "26800\n",
            "5\n"
          ]
        }
      ]
    },
    {
      "cell_type": "markdown",
      "source": [
        "Default argument"
      ],
      "metadata": {
        "id": "-Bm5b2CCjXpL"
      }
    },
    {
      "cell_type": "code",
      "source": [
        "def greet(name, message, emoji):\n",
        "  print( f\"{message}, {name}, {emoji}\")\n"
      ],
      "metadata": {
        "id": "aOQqFd2zikue"
      },
      "execution_count": null,
      "outputs": []
    },
    {
      "cell_type": "code",
      "source": [
        "greet(\"tiger\", \"Hi\", \"😊\")"
      ],
      "metadata": {
        "colab": {
          "base_uri": "https://localhost:8080/"
        },
        "id": "RKpFRABrj4EU",
        "outputId": "d5c93d95-1273-4fe3-fafb-15be211e2c57"
      },
      "execution_count": null,
      "outputs": [
        {
          "output_type": "stream",
          "name": "stdout",
          "text": [
            "Hi, tiger, 😊\n"
          ]
        }
      ]
    },
    {
      "cell_type": "code",
      "source": [
        "def greet(name = \"Manbika\", message = \"Good morning\", emoji= \"😊\"):\n",
        "  print( f\"{message}, {name}, {emoji}\")\n"
      ],
      "metadata": {
        "id": "nYFZwvD-lP9S"
      },
      "execution_count": null,
      "outputs": []
    },
    {
      "cell_type": "code",
      "source": [
        "greet()"
      ],
      "metadata": {
        "colab": {
          "base_uri": "https://localhost:8080/"
        },
        "id": "gadRyA_Flmau",
        "outputId": "dd2556c1-dbf6-4f30-dd93-6453feff09d6"
      },
      "execution_count": null,
      "outputs": [
        {
          "output_type": "stream",
          "name": "stdout",
          "text": [
            "Good morning, Manbika, 😊\n"
          ]
        }
      ]
    },
    {
      "cell_type": "markdown",
      "source": [
        "Keyword argument"
      ],
      "metadata": {
        "id": "HrIHqzKfnRdV"
      }
    },
    {
      "cell_type": "code",
      "source": [
        "# Write a function to convert temperature from celsius to fahrenheit . It takes a single argument(temp), and return the converted value.\n",
        "# use this function to generate a celcius to farhenheit table for the following temperature in celsius :\n",
        "#[19, 29, 88, -77, 67, 108, 24]\n",
        "#F =1.8* C + 32\n",
        "\n",
        "def  celsius_to_fahrenheit(c):\n",
        " fahrenheit = c * 1.8 + 32\n",
        " return fahrenheit\n",
        "\n",
        "temps = [19, 29, 88, -77, 67, 108,  24]\n",
        "for temp in temps:\n",
        "  f = celsius_to_fahrenheit(temp)\n",
        "  print(\"celsius =\", temp ,\"fahrenheit=\", f)\n",
        "\n",
        "\n",
        "\n"
      ],
      "metadata": {
        "colab": {
          "base_uri": "https://localhost:8080/"
        },
        "id": "uzTekj73nUlN",
        "outputId": "3935b129-1c57-4f0e-f6ae-d7628f841289"
      },
      "execution_count": null,
      "outputs": [
        {
          "output_type": "stream",
          "name": "stdout",
          "text": [
            "celsius = 19 fahrenheit= 66.2\n",
            "celsius = 29 fahrenheit= 84.2\n",
            "celsius = 88 fahrenheit= 190.4\n",
            "celsius = -77 fahrenheit= -106.6\n",
            "celsius = 67 fahrenheit= 152.60000000000002\n",
            "celsius = 108 fahrenheit= 226.4\n",
            "celsius = 24 fahrenheit= 75.2\n"
          ]
        }
      ]
    },
    {
      "cell_type": "code",
      "source": [
        "def calculate_area (l , b):\n",
        " return l* b\n",
        "\n",
        "calculate_area (4,7)\n",
        "calculate_area (5,6)"
      ],
      "metadata": {
        "colab": {
          "base_uri": "https://localhost:8080/"
        },
        "id": "c6i2DO-krIn8",
        "outputId": "2c0cdb93-38ae-4b93-bd03-55efdcdcdfee"
      },
      "execution_count": null,
      "outputs": [
        {
          "output_type": "execute_result",
          "data": {
            "text/plain": [
              "30"
            ]
          },
          "metadata": {},
          "execution_count": 31
        }
      ]
    },
    {
      "cell_type": "code",
      "source": [
        "def triangle_sides( s1, s2,s3):\n",
        "  if s1 < s2 +s3 and s1 < s1 +s3 and s3 < s1 + s2:\n",
        "     return True\n",
        "  return False\n",
        "triangle_sides (5 , 7, 8)"
      ],
      "metadata": {
        "colab": {
          "base_uri": "https://localhost:8080/"
        },
        "id": "HLaSoNagsqHY",
        "outputId": "d0f766a9-581b-4048-e431-af51c673e636"
      },
      "execution_count": null,
      "outputs": [
        {
          "output_type": "execute_result",
          "data": {
            "text/plain": [
              "True"
            ]
          },
          "metadata": {},
          "execution_count": 33
        }
      ]
    },
    {
      "cell_type": "markdown",
      "source": [
        "Anonymous Function (lambda)"
      ],
      "metadata": {
        "id": "uLeOlaAVoeYH"
      }
    },
    {
      "cell_type": "code",
      "source": [
        " # lambda arguments : expression"
      ],
      "metadata": {
        "id": "FdP44MUunJkr"
      },
      "execution_count": null,
      "outputs": []
    },
    {
      "cell_type": "code",
      "source": [
        "mul = lambda a , b : a * b\n",
        "mul(15, 6)\n",
        "mul(20,8)\n"
      ],
      "metadata": {
        "colab": {
          "base_uri": "https://localhost:8080/"
        },
        "id": "_dzrI3Smp0Xd",
        "outputId": "0480585b-e8a8-4945-d4f8-618b123bd91b"
      },
      "execution_count": null,
      "outputs": [
        {
          "output_type": "execute_result",
          "data": {
            "text/plain": [
              "160"
            ]
          },
          "metadata": {},
          "execution_count": 10
        }
      ]
    },
    {
      "cell_type": "code",
      "source": [
        "\n",
        "check_even_odd = lambda x: \"Even\" if x % 2 == 0 else \"Odd\"\n",
        "check_even_odd( 56)\n",
        "\n"
      ],
      "metadata": {
        "colab": {
          "base_uri": "https://localhost:8080/",
          "height": 36
        },
        "id": "lmZOy8A_qUSi",
        "outputId": "43a74ae8-17dc-435f-eb85-cbced018bcad"
      },
      "execution_count": null,
      "outputs": [
        {
          "output_type": "execute_result",
          "data": {
            "text/plain": [
              "'Even'"
            ],
            "application/vnd.google.colaboratory.intrinsic+json": {
              "type": "string"
            }
          },
          "metadata": {},
          "execution_count": 6
        }
      ]
    },
    {
      "cell_type": "code",
      "source": [
        "even_cube = lambda  x:x ** 3 if x % 2 == 0 else X\n",
        "even_cube(8)\n",
        "even_cube(16)\n"
      ],
      "metadata": {
        "colab": {
          "base_uri": "https://localhost:8080/"
        },
        "id": "7vAnyTZsrTrK",
        "outputId": "09eda454-211f-4483-8ce4-ce0668155e2b"
      },
      "execution_count": null,
      "outputs": [
        {
          "output_type": "execute_result",
          "data": {
            "text/plain": [
              "4096"
            ]
          },
          "metadata": {},
          "execution_count": 14
        }
      ]
    },
    {
      "cell_type": "markdown",
      "source": [
        "Sorting list using lambda"
      ],
      "metadata": {
        "id": "Z6hcI8bDsAf2"
      }
    },
    {
      "cell_type": "code",
      "source": [
        "fruits = [(1, 'apple',), (10, ' mango'),(4, 'litchi'),(12, 'jackfruit')]\n",
        "fruits.sort(key = lambda x : x[1])\n",
        "fruits"
      ],
      "metadata": {
        "colab": {
          "base_uri": "https://localhost:8080/"
        },
        "id": "AEd81oXUr_Oq",
        "outputId": "50843770-7341-46ca-ad60-d0640e5c23e5"
      },
      "execution_count": null,
      "outputs": [
        {
          "output_type": "execute_result",
          "data": {
            "text/plain": [
              "[(10, ' mango'), (1, 'apple'), (12, 'jackfruit'), (4, 'litchi')]"
            ]
          },
          "metadata": {},
          "execution_count": 19
        }
      ]
    },
    {
      "cell_type": "markdown",
      "source": [
        "Function scope"
      ],
      "metadata": {
        "id": "JTPhqG-0tIGT"
      }
    },
    {
      "cell_type": "code",
      "source": [
        "def myfunc():\n",
        "  nums = [1, 2, 3, 4, 5]\n",
        "  print(nums)\n",
        "myfunc()\n",
        "print(nums)"
      ],
      "metadata": {
        "colab": {
          "base_uri": "https://localhost:8080/"
        },
        "id": "qc14M7OTtMJH",
        "outputId": "f7e43648-7834-4514-e992-ac4a8fc03af3"
      },
      "execution_count": null,
      "outputs": [
        {
          "output_type": "stream",
          "name": "stdout",
          "text": [
            "[1, 2, 3, 4, 5]\n",
            "20\n"
          ]
        }
      ]
    },
    {
      "cell_type": "code",
      "source": [
        "nums = 20\n",
        "def myfunc():\n",
        "  nums = [1, 2, 3, 4, 5]\n",
        "  print(nums)\n",
        "\n",
        "myfunc()\n",
        "print(nums)"
      ],
      "metadata": {
        "colab": {
          "base_uri": "https://localhost:8080/"
        },
        "id": "209yva1Nueqm",
        "outputId": "b4b1f5a1-1d38-4f5a-f051-ca1b05801623"
      },
      "execution_count": null,
      "outputs": [
        {
          "output_type": "stream",
          "name": "stdout",
          "text": [
            "[1, 2, 3, 4, 5]\n",
            "20\n"
          ]
        }
      ]
    },
    {
      "cell_type": "code",
      "source": [
        "nums = 30\n",
        "def myfunc():\n",
        "  nums = 40\n",
        "  print(nums)\n",
        "myfunc()\n",
        "print(nums)"
      ],
      "metadata": {
        "colab": {
          "base_uri": "https://localhost:8080/"
        },
        "id": "UGpOrh1EvK5D",
        "outputId": "758f26e0-42bb-486a-8d8f-f8eee10f86ed"
      },
      "execution_count": null,
      "outputs": [
        {
          "output_type": "stream",
          "name": "stdout",
          "text": [
            "40\n",
            "30\n"
          ]
        }
      ]
    },
    {
      "cell_type": "code",
      "source": [
        "nums = 30\n",
        "def myfunc():\n",
        "  global nums\n",
        "  nums += 1\n",
        "  print(nums)\n",
        "myfunc()\n",
        "print(nums)"
      ],
      "metadata": {
        "colab": {
          "base_uri": "https://localhost:8080/"
        },
        "id": "AykpyPWivZDz",
        "outputId": "75c66139-ada9-4410-9c9d-f4ae2627f3dd"
      },
      "execution_count": null,
      "outputs": [
        {
          "output_type": "stream",
          "name": "stdout",
          "text": [
            "31\n",
            "31\n"
          ]
        }
      ]
    },
    {
      "cell_type": "code",
      "source": [
        "def test_function(x):\n",
        "  x = x + 20\n",
        "\n",
        "num = 40\n",
        "test_function(num)\n",
        "num\n"
      ],
      "metadata": {
        "colab": {
          "base_uri": "https://localhost:8080/"
        },
        "id": "DQa-CFSBw0SD",
        "outputId": "07cb78a9-9677-40ed-93e7-eb4e99d431e3"
      },
      "execution_count": null,
      "outputs": [
        {
          "output_type": "execute_result",
          "data": {
            "text/plain": [
              "40"
            ]
          },
          "metadata": {},
          "execution_count": 65
        }
      ]
    },
    {
      "cell_type": "code",
      "source": [
        "def new_function(l1)"
      ],
      "metadata": {
        "id": "_ENv5eqvxgNl"
      },
      "execution_count": null,
      "outputs": []
    },
    {
      "cell_type": "markdown",
      "source": [
        "Nested Functions"
      ],
      "metadata": {
        "id": "5mMR2IVVx-u4"
      }
    },
    {
      "cell_type": "code",
      "source": [
        "def greet(name):\n",
        "  def message():\n",
        "    print(\"Hi,\", name)\n",
        "\n",
        "    def function3():\n",
        "      print(\"Hello,Mango\")\n",
        "\n",
        "    def function4():\n",
        "      print(\"Hello,Orange\")\n",
        "\n",
        "      def function5():\n",
        "        print(\"Hello, Tomato\")\n",
        "\n",
        "      function5()\n",
        "      function5()\n",
        "    function4()\n",
        "    function3()\n",
        "\n",
        "  message()\n",
        "\n",
        "greet(\"Tiger\")"
      ],
      "metadata": {
        "colab": {
          "base_uri": "https://localhost:8080/"
        },
        "id": "grsfrSC1yC-b",
        "outputId": "3d26d26d-a8c0-4b63-aa38-4d000aed0f9d"
      },
      "execution_count": null,
      "outputs": [
        {
          "output_type": "stream",
          "name": "stdout",
          "text": [
            "Hi, Tiger\n",
            "Hello,Orange\n",
            "Hello, Tomato\n",
            "Hello, Tomato\n",
            "Hello,Mango\n"
          ]
        }
      ]
    },
    {
      "cell_type": "markdown",
      "source": [
        "Nested Function and closures"
      ],
      "metadata": {
        "id": "wiEmPMtT00LP"
      }
    },
    {
      "cell_type": "code",
      "source": [
        "def outer_function():\n",
        "  x = 20\n",
        "  def inner_function():\n",
        "    return x + 20\n",
        "\n",
        "  return inner_function\n",
        "\n",
        "fn = outer_function()\n",
        "print(fn())\n"
      ],
      "metadata": {
        "colab": {
          "base_uri": "https://localhost:8080/"
        },
        "id": "l2G1sbW406nD",
        "outputId": "df64f60c-9f1c-4eb7-d883-9b953a9f4bec"
      },
      "execution_count": null,
      "outputs": [
        {
          "output_type": "stream",
          "name": "stdout",
          "text": [
            "40\n"
          ]
        }
      ]
    },
    {
      "cell_type": "code",
      "source": [
        "def power(n):\n",
        "  def inner(x):\n",
        "    return x ** n\n",
        "  return inner\n",
        "square = power(2)\n",
        "cube = power(3)\n",
        "tenpow= power(10)\n",
        "\n",
        "square(7)\n",
        "cube(7)\n",
        "tenpow(2)\n",
        "\n"
      ],
      "metadata": {
        "colab": {
          "base_uri": "https://localhost:8080/"
        },
        "id": "rEjGcosz3b6w",
        "outputId": "d1aa813a-c76a-481e-b887-c81645183a55"
      },
      "execution_count": null,
      "outputs": [
        {
          "output_type": "execute_result",
          "data": {
            "text/plain": [
              "1024"
            ]
          },
          "metadata": {},
          "execution_count": 82
        }
      ]
    },
    {
      "cell_type": "markdown",
      "source": [
        "Recursion\n"
      ],
      "metadata": {
        "id": "Y49ZT9T76rKo"
      }
    },
    {
      "cell_type": "code",
      "source": [
        "def factorial(n):\n",
        "  if n == 0 or n == 1:\n",
        "    return 1\n",
        "  else:\n",
        "      return n * factorial(n - 1)\n"
      ],
      "metadata": {
        "id": "hcOQq13_6u7e"
      },
      "execution_count": null,
      "outputs": []
    },
    {
      "cell_type": "code",
      "source": [
        "print(factorial(5))"
      ],
      "metadata": {
        "colab": {
          "base_uri": "https://localhost:8080/"
        },
        "id": "aYlAd7D28W2v",
        "outputId": "a10dbea2-5520-453b-900f-d0156f0a3013"
      },
      "execution_count": null,
      "outputs": [
        {
          "output_type": "stream",
          "name": "stdout",
          "text": [
            "120\n"
          ]
        }
      ]
    },
    {
      "cell_type": "code",
      "source": [
        "# 1, 1, 2, 3, 5, 8, 13, 21, 34, 55, 89, 144, ...\n",
        "#  Write a recursive function to get the nth fibonacci number\n",
        "#  def fib(n)\n",
        "# pass\n",
        "# fib(6) = 8\n",
        "\n",
        "# Base case:\n",
        "# fib(1) = 1\n",
        "# fib(2) = 1\n",
        "\n",
        "# #Recursive case\n",
        "# fib(3) = 1 + 1 =fib(2) + fib(1)\n",
        "# fib(4) = 2 + 1 = fib(3) + fib(2)\n",
        "# fib(5) = fib(4) + fib(3)\n",
        "# fib(6) = fib(5) + fib(4)\n",
        "\n",
        "#  fib(n) = fib(n - 1) + fib(n - 2)"
      ],
      "metadata": {
        "id": "W7Piw4Ac-Oqh"
      },
      "execution_count": null,
      "outputs": []
    },
    {
      "cell_type": "code",
      "source": [
        "def fib(n):\n",
        "  if n == 1 or n == 2:\n",
        "    return 1\n",
        "  else:\n",
        "      return fib(n - 1) + fib(n - 2)\n"
      ],
      "metadata": {
        "id": "hEBq2UnBAdz6"
      },
      "execution_count": null,
      "outputs": []
    },
    {
      "cell_type": "code",
      "source": [
        "fib(5)"
      ],
      "metadata": {
        "colab": {
          "base_uri": "https://localhost:8080/"
        },
        "id": "PiSU5oC4A1-h",
        "outputId": "0351e01b-d3c8-4008-bf3f-89b3ad24f90e"
      },
      "execution_count": null,
      "outputs": [
        {
          "output_type": "execute_result",
          "data": {
            "text/plain": [
              "5"
            ]
          },
          "metadata": {},
          "execution_count": 9
        }
      ]
    },
    {
      "cell_type": "code",
      "source": [
        "from string import digits\n",
        "# Write a recursive python function sum_digits(n) that returns the sun of digits of positive integer n .\n",
        "# input : 1234\n",
        "# output:10\n",
        "# Here, the digitsof input are summened: 1+2+3+4 =10\n",
        "\n",
        "def sum_digits(n):\n",
        "    if n < 10:\n",
        "        return n\n",
        "    else:\n",
        "        return n % 10 + sum_digits(n // 10)"
      ],
      "metadata": {
        "id": "hrEI1IriDVHf"
      },
      "execution_count": null,
      "outputs": []
    },
    {
      "cell_type": "markdown",
      "source": [
        "Object oriented programming"
      ],
      "metadata": {
        "id": "by1Ukt9cYiML"
      }
    },
    {
      "cell_type": "code",
      "source": [
        "class person:\n",
        "  pass\n",
        "\n",
        "Manbika = person()\n",
        "type(Manbika)\n",
        "\n"
      ],
      "metadata": {
        "colab": {
          "base_uri": "https://localhost:8080/"
        },
        "id": "UiO4R9D9Ynoo",
        "outputId": "290910b1-d3c2-4b34-f757-69e2a3293247"
      },
      "execution_count": null,
      "outputs": [
        {
          "output_type": "execute_result",
          "data": {
            "text/plain": [
              "__main__.person"
            ]
          },
          "metadata": {},
          "execution_count": 2
        }
      ]
    },
    {
      "cell_type": "code",
      "source": [
        "class person:\n",
        "  species =\"Homo sapiens\"\n",
        "\n",
        "Manbika = person()\n",
        "print(Manbika. species)\n",
        "\n"
      ],
      "metadata": {
        "colab": {
          "base_uri": "https://localhost:8080/"
        },
        "id": "I9903ohwZxe3",
        "outputId": "4a0b20df-2273-4c4f-91c9-33e8270e85db"
      },
      "execution_count": null,
      "outputs": [
        {
          "output_type": "stream",
          "name": "stdout",
          "text": [
            "Homo sapiens\n"
          ]
        }
      ]
    },
    {
      "cell_type": "code",
      "source": [
        "class Person:\n",
        "  species =\"Homo sapiens\"\n",
        "\n",
        "  def __init__(self,name, height, weight, gender):\n",
        "    self.height = height\n",
        "    self.name = name\n",
        "    self.weight = weight\n",
        "    self.gender = gender\n",
        "    self.nationality = \"Nepali\"\n",
        "\n",
        "  def info(self):\n",
        "    print(f\"Hi {self.name}, your height is {self.height}, your weight is {self.weight}, your gender is {self.gender}.\")\n",
        "\n",
        "  def eat(self, dish):\n",
        "    print(f\"{self.name}, is eating {dish}\")\n",
        "\n",
        "  def dining(self, location,dish):\n",
        "    print(f\"{self.name} is eating at{location}\")\n",
        "    self.eat (dish)\n",
        "\n",
        "Manbika = Person(name = \"Manbika\" ,height=5.2, weight=45, gender=\"F\")\n",
        "Manbika.info()\n",
        "Manbika.dining(\"cafe deja vu\",\"keema noodle\")\n",
        "\n"
      ],
      "metadata": {
        "colab": {
          "base_uri": "https://localhost:8080/"
        },
        "id": "dBD8vhatcer5",
        "outputId": "c26ac822-3d1e-443f-fa17-c8322229f61f"
      },
      "execution_count": null,
      "outputs": [
        {
          "output_type": "stream",
          "name": "stdout",
          "text": [
            "Hi Manbika, your height is 5.2, your weight is 45, your gender is F.\n",
            "Manbika is eating atcafe deja vu\n",
            "Manbika, is eating keema noodle\n"
          ]
        }
      ]
    },
    {
      "cell_type": "markdown",
      "source": [
        "Inheritance"
      ],
      "metadata": {
        "id": "GnDtryLzmai4"
      }
    },
    {
      "cell_type": "code",
      "source": [
        "class Vehicle:\n",
        "  def move(self):\n",
        "    print(\"Vehicle is moving...\")\n",
        "class Officechair:\n",
        "  def suspension_up(self):\n",
        "    print(\"Increasing height...\")\n",
        "\n",
        "  def height_down(self):\n",
        "    print(\"Decreasing height...\")"
      ],
      "metadata": {
        "id": "YXedcJUQmcgw"
      },
      "execution_count": null,
      "outputs": []
    },
    {
      "cell_type": "code",
      "source": [
        "ocl = Officechair()\n",
        "ocl.height_down()\n",
        "ocl.suspension_up()"
      ],
      "metadata": {
        "colab": {
          "base_uri": "https://localhost:8080/"
        },
        "id": "D9Vf5P0NnaK0",
        "outputId": "4777219e-4907-4f10-f255-fb571333708c"
      },
      "execution_count": null,
      "outputs": [
        {
          "output_type": "stream",
          "name": "stdout",
          "text": [
            "Decreasing heigh...\n",
            "Increasing heigh...\n"
          ]
        }
      ]
    },
    {
      "cell_type": "markdown",
      "source": [
        "Multiple inheritance"
      ],
      "metadata": {
        "id": "cfGi7bgfgEc-"
      }
    },
    {
      "cell_type": "code",
      "source": [
        "my_function( )# snake case\n"
      ],
      "metadata": {
        "id": "TqLqh4ywgPco"
      },
      "execution_count": null,
      "outputs": []
    },
    {
      "cell_type": "code",
      "source": [
        "class phone:\n",
        "  def call(self):\n",
        "    print(\"Making a call...\")\n",
        "\n",
        "class camera:\n",
        "  def take_picture(self):\n",
        "    print(\"Taking a picture...\")\n",
        "\n",
        "class smartphone(phone,camera):\n",
        "\n",
        "\n",
        "\n",
        "\n",
        "  sp1 = smartphone()\n",
        "  spl.call()\n",
        "  spl.take_picture()\n",
        "  spl.connect_to_wifi()\n"
      ],
      "metadata": {
        "id": "nz32FywdgZ2a"
      },
      "execution_count": null,
      "outputs": []
    },
    {
      "cell_type": "markdown",
      "source": [
        "Multi-level inheritance"
      ],
      "metadata": {
        "id": "bk2rRNpIhTUG"
      }
    },
    {
      "cell_type": "code",
      "source": [
        "class Vehicle:\n",
        "  def __init__(self, brand, wheels):\n",
        "    self.brand = brand\n",
        "    self.wheels = wheels\n",
        "\n",
        "  def move(self):\n",
        "    print(f\"This {self.brand} vehicle is moving\")\n",
        "\n",
        "\n",
        "class Car(Vehicle):\n",
        "  def __init__(self, brand, doors):\n",
        "    super().__init__(brand=brand, wheels=4)\n",
        "    self.doors = doors\n",
        "    self.ignition = False\n",
        "\n",
        "  def start_engine(self):\n",
        "    self.ignition = True\n",
        "    print(\"Engine started...\")\n",
        "\n",
        "  def turn_off_engine(self):\n",
        "    self.ignition = False\n",
        "    print(\"Engine turned off...\")\n",
        "\n",
        "\n",
        "class SuperCar(Car):\n",
        "  def __init__(self, brand, top_speed):\n",
        "    super().__init__(brand=brand, doors=2)\n",
        "    self.top_speed = top_speed\n",
        "    self.nitro = False\n",
        "\n",
        "  def nitro_on(self):\n",
        "    self.nitro = True\n",
        "    print(\"Nitro on...\")\n",
        "\n",
        "  def nitro_off(self):\n",
        "    self.nitro = False\n",
        "    print(\"Nitro off...\")\n"
      ],
      "metadata": {
        "id": "1V9N8p0ikcRZ"
      },
      "execution_count": null,
      "outputs": []
    },
    {
      "cell_type": "code",
      "source": [
        "ferrari = SuperCar(\n",
        "    brand= \"Ferrari\",\n",
        "    top_speed=300\n",
        ")\n",
        "ferrari.move()\n",
        "ferrari.start_engine()\n",
        "ferrari.nitro_on()\n",
        "#ferrari.nitro_off()\n",
        "ferrari.nitro_off()\n",
        "ferrari.turn_off_engine()\n"
      ],
      "metadata": {
        "colab": {
          "base_uri": "https://localhost:8080/"
        },
        "id": "2tfNwZDPkk08",
        "outputId": "f853e27b-9fef-465f-a1e9-ae32a3ab791a"
      },
      "execution_count": null,
      "outputs": [
        {
          "output_type": "stream",
          "name": "stdout",
          "text": [
            "This Ferrari vehicle is moving\n",
            "Engine started...\n",
            "Nitro on...\n",
            "Nitro off...\n",
            "Engine turned off...\n"
          ]
        }
      ]
    },
    {
      "cell_type": "markdown",
      "source": [
        "Polymorphism"
      ],
      "metadata": {
        "id": "UUyhOeUrlnMD"
      }
    },
    {
      "cell_type": "code",
      "source": [
        "import math\n",
        "math.pi"
      ],
      "metadata": {
        "colab": {
          "base_uri": "https://localhost:8080/"
        },
        "id": "Uh_Zj8qrluMz",
        "outputId": "1ca7484c-7472-4ffc-f909-57d6969990a9"
      },
      "execution_count": null,
      "outputs": [
        {
          "output_type": "execute_result",
          "data": {
            "text/plain": [
              "3.141592653589793"
            ]
          },
          "metadata": {},
          "execution_count": 14
        }
      ]
    },
    {
      "cell_type": "code",
      "source": [
        "class shape:\n",
        "  def __init__(self,name):\n",
        "    self.name = name\n",
        "\n",
        "#class Rectangle(shape):\n",
        "  #pass\n",
        "\n",
        "\n",
        "#class circle(shape):\n",
        "  #pass\n",
        "\n",
        "\n",
        "\n"
      ],
      "metadata": {
        "id": "HUaZJcwzl2FJ"
      },
      "execution_count": null,
      "outputs": []
    },
    {
      "cell_type": "code",
      "source": [
        "from math import pi\n",
        "\n",
        "class Shape:\n",
        "    def __init__(self, name):\n",
        "        self.name = name\n",
        "\n",
        "class Rectangle(Shape):\n",
        "    def __init__(self, name, length, breadth):\n",
        "        super().__init__(name)\n",
        "        self.length = length\n",
        "        self.breadth = breadth\n",
        "\n",
        "    def area(self):\n",
        "        return self.length * self.breadth\n",
        "\n",
        "    def describe(self):\n",
        "        return f\"{self.name} is a rectangle: {self.length} × {self.breadth}\"\n",
        "\n",
        "class Circle(Shape):\n",
        "    def __init__(self, name, radius):\n",
        "        super().__init__(name)\n",
        "        self.radius = radius\n",
        "\n",
        "    def area(self):\n",
        "        return pi * self.radius ** 2\n",
        "\n",
        "    def describe(self):\n",
        "        return f\"{self.name} is a circle with radius {self.radius}\"\n",
        "\n",
        "\n",
        "#  Create objects\n",
        "rect = Rectangle(\"MyRect\", 10, 5)\n",
        "circle = Circle(\"MyCircle\", 7)\n",
        "\n",
        "#  Call methods on objects\n",
        "print(rect.describe())\n",
        "print(\"Area:\", rect.area())\n",
        "\n",
        "print(circle.describe())\n",
        "print(\"Area:\", circle.area())\n"
      ],
      "metadata": {
        "colab": {
          "base_uri": "https://localhost:8080/"
        },
        "id": "4jSAJ-aNqmND",
        "outputId": "ca98299f-91f1-4697-e67d-102588ffae4b"
      },
      "execution_count": null,
      "outputs": [
        {
          "output_type": "stream",
          "name": "stdout",
          "text": [
            "MyRect is a rectangle: 10 × 5\n",
            "Area: 50\n",
            "MyCircle is a circle with radius 7\n",
            "Area: 153.93804002589985\n"
          ]
        }
      ]
    },
    {
      "cell_type": "markdown",
      "source": [
        "Operative Overloading"
      ],
      "metadata": {
        "id": "lPbrnOsyrQ3h"
      }
    },
    {
      "cell_type": "code",
      "source": [
        "class Glass:\n",
        "  capacity = 100\n",
        "\n",
        "  def __init__(self,quantity):\n",
        "    if quantity > self.capacity:\n",
        "      self.quantity = self.capacity\n",
        "    else:\n",
        "      self.quantity = quantity\n",
        "\n",
        "  def __add__(self,another_glass):\n",
        "    new_quantity = self.quantity + another_glass.quantity\n",
        "    if new_quantity > self.capacity:\n",
        "      self.quantity = self.capacity\n",
        "    else:\n",
        "      self.quantity = new_quantity\n",
        "\n",
        "  def __repr__(self):\n",
        "    return f\"This glass has{self.quantity} ml of water with total capacity of{self.capacity}ml.\"\n",
        "\n",
        "\n",
        "\n",
        "g1 = Glass(40)\n",
        "g2 = Glass(50)\n",
        "\n",
        "print(g1)\n",
        "print(g2)\n",
        "#gl.quantity"
      ],
      "metadata": {
        "colab": {
          "base_uri": "https://localhost:8080/"
        },
        "id": "ytcICXcUrVIF",
        "outputId": "739b0c5f-bce9-4732-fc56-3cced303fc9a"
      },
      "execution_count": null,
      "outputs": [
        {
          "output_type": "stream",
          "name": "stdout",
          "text": [
            "This glass has40 ml of water with total capacity of100ml.\n",
            "This glass has50 ml of water with total capacity of100ml.\n"
          ]
        }
      ]
    },
    {
      "cell_type": "markdown",
      "source": [
        "##Function Overriding"
      ],
      "metadata": {
        "id": "d-ER-lWmqOWl"
      }
    },
    {
      "cell_type": "code",
      "source": [
        "class Animal:\n",
        "  def speak(self):\n",
        "    print(\"Animal is speaking\")\n",
        "\n",
        "class Mammal(Animal):\n",
        "  def speak(self):\n",
        "    print(\"Mammal is speaking\")\n",
        "\n",
        "class Cat(Mammal):\n",
        "  def speak(self):\n",
        "    print(\"meow! meow!\")\n",
        "\n",
        "class Dog(Mammal):\n",
        "  def speak(self):\n",
        "    print(\"woof!, woof!\")\n",
        "\n",
        "class Bulldog(Dog):\n",
        "  def speak(self):\n",
        "    print (\"Buldog woof!, woof!\")\n",
        "\n",
        "class Doberman(Dog):\n",
        "  def speak(self):\n",
        "    print(\"Doberman woof!,Woof!\")\n",
        "\n",
        "class HybridDog(Bulldog,Doberman):\n",
        "   pass\n",
        "\n",
        "dog1 = HybridDog()\n",
        "dog1.speak()\n",
        "\n",
        "\n",
        "\n"
      ],
      "metadata": {
        "id": "V4p_jBOnqVUk",
        "colab": {
          "base_uri": "https://localhost:8080/"
        },
        "outputId": "f5fc0567-4991-4b5f-c1a5-9a07f0bdf4ef"
      },
      "execution_count": null,
      "outputs": [
        {
          "output_type": "stream",
          "name": "stdout",
          "text": [
            "Buldog woof!, woof!\n"
          ]
        }
      ]
    },
    {
      "cell_type": "markdown",
      "source": [
        "Encapsulation"
      ],
      "metadata": {
        "id": "GgMXv10AscSC"
      }
    },
    {
      "cell_type": "code",
      "source": [
        "class Person:\n",
        "    def __init__(self, name, gender):\n",
        "        self.__name = name   # private attribute\n",
        "        self._gender = gender  # protected attribute\n",
        "\n",
        "    def get_name(self):\n",
        "        return self.__name\n",
        "\n",
        "    def change_name(self, name):\n",
        "        self.__name = name\n",
        "\n",
        "\n",
        "p1 = Person(\"Manbika\", \"F\")\n",
        "\n",
        "# Call the method properly\n",
        "print(p1.get_name())   # Output: Manbika\n",
        "\n",
        "p1.change_name(\"Bikuu\")\n",
        "print(p1.get_name())   # Output: Bikuu\n"
      ],
      "metadata": {
        "colab": {
          "base_uri": "https://localhost:8080/"
        },
        "id": "RK4YYlJVsf-1",
        "outputId": "2745a9f6-998f-45b2-ddf4-a7baa0f01d31"
      },
      "execution_count": null,
      "outputs": [
        {
          "output_type": "stream",
          "name": "stdout",
          "text": [
            "Manbika\n",
            "Bikuu\n"
          ]
        }
      ]
    },
    {
      "cell_type": "code",
      "source": [
        "class Person:\n",
        "    def __init__(self, name, gender):\n",
        "        self.__name = name      # private attribute (with double underscore)\n",
        "        self._gender = gender   # protected attribute (by convention)\n",
        "\n",
        "    def get_name(self):\n",
        "        return self.__name\n",
        "\n",
        "    def change_name(self, name):\n",
        "        self.__name = name\n",
        "\n",
        "\n",
        "# Creating an object of Person\n",
        "p1 = Person(\"Pranisha\", \"F\")\n",
        "\n",
        "# Call the method with parentheses\n",
        "print(p1.get_name())  # Output: Manbika\n",
        "\n",
        "# Change name\n",
        "p1.change_name(\"Manbika\")\n",
        "print(p1.get_name())  # Output: Ankita\n"
      ],
      "metadata": {
        "colab": {
          "base_uri": "https://localhost:8080/"
        },
        "id": "Ej3q0Ry30sWX",
        "outputId": "89ca0287-cbc2-42e8-d21e-985844c048f3"
      },
      "execution_count": null,
      "outputs": [
        {
          "output_type": "stream",
          "name": "stdout",
          "text": [
            "Pranisha\n",
            "Manbika\n"
          ]
        }
      ]
    },
    {
      "cell_type": "markdown",
      "source": [
        "##Chapter -8"
      ],
      "metadata": {
        "id": "9Qtfk5ev11Ip"
      }
    },
    {
      "cell_type": "code",
      "source": [
        "try:\n",
        "  age = int(input(\"Enter your age: \"))\n",
        "  print(f\"your age is: {age}\")\n",
        "\n",
        "except:\n",
        "  print(\"Invalid age\")"
      ],
      "metadata": {
        "colab": {
          "base_uri": "https://localhost:8080/"
        },
        "id": "YqxDTiO41NGL",
        "outputId": "936e74e4-7480-4ae7-d42c-f89e77005df8"
      },
      "execution_count": null,
      "outputs": [
        {
          "output_type": "stream",
          "name": "stdout",
          "text": [
            "Enter your age: manbika\n",
            "Invalid age\n"
          ]
        }
      ]
    },
    {
      "cell_type": "markdown",
      "source": [
        "Try except block\n"
      ],
      "metadata": {
        "id": "RIu7tF7A8thN"
      }
    },
    {
      "cell_type": "code",
      "source": [
        "try:\n",
        "    age = int(input(\"Enter your age: \"))\n",
        "    div = 10 / age\n",
        "    d1 = {\n",
        "        \"a\": 20,\n",
        "        \"b\": 30\n",
        "    }\n",
        "    print(d1[\"c\"])   # This will raise a KeyError\n",
        "except ValueError:\n",
        "    print(\"Value error occurred\")\n",
        "except KeyError:\n",
        "    print(\"Key error occurred\")\n",
        "except ZeroDivisionError:\n",
        "    print(\"Division by zero not possible\")\n"
      ],
      "metadata": {
        "colab": {
          "base_uri": "https://localhost:8080/"
        },
        "id": "N3TIITkC-8U0",
        "outputId": "36491d31-d786-458b-e56b-afd3765c6eb5"
      },
      "execution_count": null,
      "outputs": [
        {
          "output_type": "stream",
          "name": "stdout",
          "text": [
            "Enter your age: 10\n",
            "Key error occurred\n"
          ]
        }
      ]
    },
    {
      "cell_type": "code",
      "source": [
        "try:\n",
        "  with open(\"/content/sample_data/README\",\"r\")as f:\n",
        "    content = f.read()\n",
        "except FileNotFoundError as err:\n",
        "  print(\"Could not find file:\", err.filename)\n",
        "else:\n",
        "  print(\"Sucessfully read content: \")\n",
        "  print(content)"
      ],
      "metadata": {
        "colab": {
          "base_uri": "https://localhost:8080/"
        },
        "id": "pOLCIJJc_1lY",
        "outputId": "fb817d61-f193-47f8-d6c6-ceabfcbce7f2"
      },
      "execution_count": null,
      "outputs": [
        {
          "output_type": "stream",
          "name": "stdout",
          "text": [
            "Could not find file: /content/sample_data/README\n"
          ]
        }
      ]
    },
    {
      "cell_type": "code",
      "source": [
        "try:\n",
        "  f =  open(\"/content/sample_data/anscombe.json\", \"r\")\n",
        "  content = f.read()\n",
        "except FileNotFoundError as err:\n",
        "  print(\"Could not find file:\", err.filename)\n",
        "else:\n",
        "  print(\"Sucessfully read content: \")\n",
        "  print(content)\n",
        "finally:\n",
        "  print(\"Closing file\")\n",
        "  f.close()"
      ],
      "metadata": {
        "colab": {
          "base_uri": "https://localhost:8080/"
        },
        "id": "fIF7kHgSC-Z3",
        "outputId": "e49b2b93-43a7-48e6-e6fd-339d9968b405"
      },
      "execution_count": null,
      "outputs": [
        {
          "output_type": "stream",
          "name": "stdout",
          "text": [
            "Sucessfully read content: \n",
            "[\n",
            "  {\"Series\":\"I\", \"X\":10.0, \"Y\":8.04},\n",
            "  {\"Series\":\"I\", \"X\":8.0, \"Y\":6.95},\n",
            "  {\"Series\":\"I\", \"X\":13.0, \"Y\":7.58},\n",
            "  {\"Series\":\"I\", \"X\":9.0, \"Y\":8.81},\n",
            "  {\"Series\":\"I\", \"X\":11.0, \"Y\":8.33},\n",
            "  {\"Series\":\"I\", \"X\":14.0, \"Y\":9.96},\n",
            "  {\"Series\":\"I\", \"X\":6.0, \"Y\":7.24},\n",
            "  {\"Series\":\"I\", \"X\":4.0, \"Y\":4.26},\n",
            "  {\"Series\":\"I\", \"X\":12.0, \"Y\":10.84},\n",
            "  {\"Series\":\"I\", \"X\":7.0, \"Y\":4.81},\n",
            "  {\"Series\":\"I\", \"X\":5.0, \"Y\":5.68},\n",
            "\n",
            "  {\"Series\":\"II\", \"X\":10.0, \"Y\":9.14},\n",
            "  {\"Series\":\"II\", \"X\":8.0, \"Y\":8.14},\n",
            "  {\"Series\":\"II\", \"X\":13.0, \"Y\":8.74},\n",
            "  {\"Series\":\"II\", \"X\":9.0, \"Y\":8.77},\n",
            "  {\"Series\":\"II\", \"X\":11.0, \"Y\":9.26},\n",
            "  {\"Series\":\"II\", \"X\":14.0, \"Y\":8.10},\n",
            "  {\"Series\":\"II\", \"X\":6.0, \"Y\":6.13},\n",
            "  {\"Series\":\"II\", \"X\":4.0, \"Y\":3.10},\n",
            "  {\"Series\":\"II\", \"X\":12.0, \"Y\":9.13},\n",
            "  {\"Series\":\"II\", \"X\":7.0, \"Y\":7.26},\n",
            "  {\"Series\":\"II\", \"X\":5.0, \"Y\":4.74},\n",
            "\n",
            "  {\"Series\":\"III\", \"X\":10.0, \"Y\":7.46},\n",
            "  {\"Series\":\"III\", \"X\":8.0, \"Y\":6.77},\n",
            "  {\"Series\":\"III\", \"X\":13.0, \"Y\":12.74},\n",
            "  {\"Series\":\"III\", \"X\":9.0, \"Y\":7.11},\n",
            "  {\"Series\":\"III\", \"X\":11.0, \"Y\":7.81},\n",
            "  {\"Series\":\"III\", \"X\":14.0, \"Y\":8.84},\n",
            "  {\"Series\":\"III\", \"X\":6.0, \"Y\":6.08},\n",
            "  {\"Series\":\"III\", \"X\":4.0, \"Y\":5.39},\n",
            "  {\"Series\":\"III\", \"X\":12.0, \"Y\":8.15},\n",
            "  {\"Series\":\"III\", \"X\":7.0, \"Y\":6.42},\n",
            "  {\"Series\":\"III\", \"X\":5.0, \"Y\":5.73},\n",
            "\n",
            "  {\"Series\":\"IV\", \"X\":8.0, \"Y\":6.58},\n",
            "  {\"Series\":\"IV\", \"X\":8.0, \"Y\":5.76},\n",
            "  {\"Series\":\"IV\", \"X\":8.0, \"Y\":7.71},\n",
            "  {\"Series\":\"IV\", \"X\":8.0, \"Y\":8.84},\n",
            "  {\"Series\":\"IV\", \"X\":8.0, \"Y\":8.47},\n",
            "  {\"Series\":\"IV\", \"X\":8.0, \"Y\":7.04},\n",
            "  {\"Series\":\"IV\", \"X\":8.0, \"Y\":5.25},\n",
            "  {\"Series\":\"IV\", \"X\":19.0, \"Y\":12.50},\n",
            "  {\"Series\":\"IV\", \"X\":8.0, \"Y\":5.56},\n",
            "  {\"Series\":\"IV\", \"X\":8.0, \"Y\":7.91},\n",
            "  {\"Series\":\"IV\", \"X\":8.0, \"Y\":6.89}\n",
            "]\n",
            "\n",
            "Closing file\n"
          ]
        }
      ]
    },
    {
      "cell_type": "markdown",
      "source": [
        "Creating Custom Exception"
      ],
      "metadata": {
        "id": "ue4MSblWH_38"
      }
    },
    {
      "cell_type": "code",
      "source": [
        "class DateOfBirthError(Exception):\n",
        "  pass\n",
        "try:\n",
        "  raise DateOfBirthError()\n",
        "except DateOfBirthError as err:\n",
        "  print(\"error occured\", err)"
      ],
      "metadata": {
        "colab": {
          "base_uri": "https://localhost:8080/"
        },
        "id": "1gEd4WXnIGAt",
        "outputId": "1311caed-af16-48d9-cf16-3e62db7181a6"
      },
      "execution_count": null,
      "outputs": [
        {
          "output_type": "stream",
          "name": "stdout",
          "text": [
            "error occured \n"
          ]
        }
      ]
    },
    {
      "cell_type": "code",
      "source": [
        "# 1980-12-31\n",
        "\"apple-b-c\".split(\"-\")"
      ],
      "metadata": {
        "colab": {
          "base_uri": "https://localhost:8080/"
        },
        "id": "C29xC8wmJk81",
        "outputId": "f3e21c63-794b-49c9-b2ae-d2c40ad02cb0"
      },
      "execution_count": null,
      "outputs": [
        {
          "output_type": "execute_result",
          "data": {
            "text/plain": [
              "['apple', 'b', 'c']"
            ]
          },
          "metadata": {},
          "execution_count": 14
        }
      ]
    },
    {
      "cell_type": "code",
      "source": [
        "def check_dob(date_str):\n",
        "  date_list = date_str.split(\"-\")\n",
        "  year = int(date_list[0])\n",
        "  if year < 1900:\n",
        "    raise DateOfBirthError(\"Birth year cannot be before 1900\")\n",
        "  else:\n",
        "    print(\"Valid date of birth\")\n",
        "\n"
      ],
      "metadata": {
        "id": "CxbXNJspJZfB"
      },
      "execution_count": null,
      "outputs": []
    },
    {
      "cell_type": "code",
      "source": [
        "try:\n",
        "  check_dob(\"1890-12-31\")\n",
        "except DateOfBirthError as err:\n",
        "    print(\"Invalid dob:\", err)\n"
      ],
      "metadata": {
        "colab": {
          "base_uri": "https://localhost:8080/"
        },
        "id": "8ML6iw9aK2Nz",
        "outputId": "82d3a7ee-4145-4a8d-82a2-f432abdffd77"
      },
      "execution_count": null,
      "outputs": [
        {
          "output_type": "stream",
          "name": "stdout",
          "text": [
            "Invalid dob: Birth year cannot be before 1900\n"
          ]
        }
      ]
    },
    {
      "cell_type": "code",
      "source": [
        "mylist = \"apple-23-xyz\".split(\"-\")\n",
        "mylist"
      ],
      "metadata": {
        "colab": {
          "base_uri": "https://localhost:8080/"
        },
        "id": "irfCi9c8LX_9",
        "outputId": "c0d08fe9-869f-401c-f2af-9dd4a87f02f1"
      },
      "execution_count": null,
      "outputs": [
        {
          "output_type": "execute_result",
          "data": {
            "text/plain": [
              "['apple', '23', 'xyz']"
            ]
          },
          "metadata": {},
          "execution_count": 31
        }
      ]
    },
    {
      "cell_type": "code",
      "source": [
        "\"_\".join(mylist)"
      ],
      "metadata": {
        "colab": {
          "base_uri": "https://localhost:8080/",
          "height": 35
        },
        "id": "tmGpLb8eLpsm",
        "outputId": "e5998af5-4429-4366-a4cc-88fa4c65de9c"
      },
      "execution_count": null,
      "outputs": [
        {
          "output_type": "execute_result",
          "data": {
            "text/plain": [
              "'apple_23_xyz'"
            ],
            "application/vnd.google.colaboratory.intrinsic+json": {
              "type": "string"
            }
          },
          "metadata": {},
          "execution_count": 32
        }
      ]
    },
    {
      "cell_type": "markdown",
      "source": [
        "In-depth Topics\n",
        "\n"
      ],
      "metadata": {
        "id": "TSurWoLMFRow"
      }
    },
    {
      "cell_type": "markdown",
      "source": [
        "Lambda functions"
      ],
      "metadata": {
        "id": "rmS3RrqnIb4K"
      }
    },
    {
      "cell_type": "markdown",
      "source": [
        "Maps"
      ],
      "metadata": {
        "id": "pe732tiTIgDn"
      }
    },
    {
      "cell_type": "code",
      "source": [
        "mylambda= lambda x :x ** 2 if x % 2 == 0 else x\n",
        "#mylambda(7)\n",
        "t1 = (1, 6, 8, 9, 14)\n",
        "obj = map(mylambda, t1)\n",
        "tuple(obj)\n"
      ],
      "metadata": {
        "colab": {
          "base_uri": "https://localhost:8080/"
        },
        "id": "jCgpMvJzG7Dn",
        "outputId": "7548e5bd-e614-415f-aad3-f6eaa046b70a"
      },
      "execution_count": null,
      "outputs": [
        {
          "output_type": "execute_result",
          "data": {
            "text/plain": [
              "(1, 36, 64, 9, 196)"
            ]
          },
          "metadata": {},
          "execution_count": 5
        }
      ]
    },
    {
      "cell_type": "code",
      "source": [
        "t1 = (1, 6, 8, 9, 14)\n",
        "obj = map(lambda x :x ** 2 if x % 2 == 0 else x, t1) #can use code directly\n",
        "tuple(obj)\n"
      ],
      "metadata": {
        "colab": {
          "base_uri": "https://localhost:8080/"
        },
        "id": "1MPTUK8PJJeM",
        "outputId": "70eb4e83-92f4-4863-cdae-fac6e3ac21f5"
      },
      "execution_count": null,
      "outputs": [
        {
          "output_type": "execute_result",
          "data": {
            "text/plain": [
              "(1, 36, 64, 9, 196)"
            ]
          },
          "metadata": {},
          "execution_count": 6
        }
      ]
    },
    {
      "cell_type": "markdown",
      "source": [
        "filter"
      ],
      "metadata": {
        "id": "2mamKO6bJBrJ"
      }
    },
    {
      "cell_type": "code",
      "source": [
        "t1 = (1, 6, 8, 9, 14)\n",
        "obj = filter(lambda x : x % 2 == 0 , t1)\n",
        "tuple(obj)\n"
      ],
      "metadata": {
        "colab": {
          "base_uri": "https://localhost:8080/"
        },
        "id": "JwJxyS97JDxG",
        "outputId": "9693633a-ad78-4a54-a9a8-3787f3db7f28"
      },
      "execution_count": null,
      "outputs": [
        {
          "output_type": "execute_result",
          "data": {
            "text/plain": [
              "(6, 8, 14)"
            ]
          },
          "metadata": {},
          "execution_count": 10
        }
      ]
    },
    {
      "cell_type": "markdown",
      "source": [
        "Sorted"
      ],
      "metadata": {
        "id": "QPCovGr4KDGk"
      }
    },
    {
      "cell_type": "code",
      "source": [
        "mytuple = ((1, 'apple'), (5, 'mango'),(3, 'orange'),(8, 'litchi'))\n",
        "sorted(mytuple, key=lambda x:x[1]) # sort by first character of name\n"
      ],
      "metadata": {
        "colab": {
          "base_uri": "https://localhost:8080/"
        },
        "id": "8yaKoH1XKF0Y",
        "outputId": "63681484-721e-4600-c60c-9527fb416d1c"
      },
      "execution_count": null,
      "outputs": [
        {
          "output_type": "execute_result",
          "data": {
            "text/plain": [
              "[(1, 'apple'), (8, 'litchi'), (5, 'mango'), (3, 'orange')]"
            ]
          },
          "metadata": {},
          "execution_count": 12
        }
      ]
    },
    {
      "cell_type": "code",
      "source": [
        "mytuple = ((1, 'apple'), (5, 'mango'),(3, 'orange'),(8, 'litchi'))\n",
        "sorted(mytuple, key=lambda x:x[1][-1]) # sort by  last character of name"
      ],
      "metadata": {
        "colab": {
          "base_uri": "https://localhost:8080/"
        },
        "id": "ru_xU7rZLPuU",
        "outputId": "929b3f1a-0c8c-4420-fa32-9ac3fbbe6fe5"
      },
      "execution_count": null,
      "outputs": [
        {
          "output_type": "execute_result",
          "data": {
            "text/plain": [
              "[(1, 'apple'), (3, 'orange'), (8, 'litchi'), (5, 'mango')]"
            ]
          },
          "metadata": {},
          "execution_count": 14
        }
      ]
    },
    {
      "cell_type": "code",
      "source": [
        "mytuple = ((1, 'apple'), (5, 'pineapple'),(3, 'orange'),(8, 'litchi'))\n",
        "sorted(mytuple, key=lambda item: len(item[1] [-1]) , reverse = True) # sort by length of name"
      ],
      "metadata": {
        "colab": {
          "base_uri": "https://localhost:8080/"
        },
        "id": "AYcVf1V7Lnzy",
        "outputId": "b2fc9045-1ba6-4753-b266-2d84d70785b2"
      },
      "execution_count": null,
      "outputs": [
        {
          "output_type": "execute_result",
          "data": {
            "text/plain": [
              "[(1, 'apple'), (5, 'pineapple'), (3, 'orange'), (8, 'litchi')]"
            ]
          },
          "metadata": {},
          "execution_count": 19
        }
      ]
    },
    {
      "cell_type": "markdown",
      "source": [
        "Generators"
      ],
      "metadata": {
        "id": "s4mN8N4HMYXF"
      }
    },
    {
      "cell_type": "code",
      "source": [
        "def count_up_to(n):\n",
        "  count = 1\n",
        "  print(\"Loop start\")\n",
        "  while count <= n:\n",
        "    yield count\n",
        "    print(\"count:\", count)\n",
        "    count += 1\n",
        "\n",
        "\n",
        "mygen = count_up_to(25)\n",
        "\n"
      ],
      "metadata": {
        "id": "AwJ5knioMXXi"
      },
      "execution_count": null,
      "outputs": []
    },
    {
      "cell_type": "code",
      "source": [
        "next(mygen)\n"
      ],
      "metadata": {
        "colab": {
          "base_uri": "https://localhost:8080/"
        },
        "id": "4b1ADBlCOQhi",
        "outputId": "cd5155dc-ba29-4a94-b5b4-b560d6b864dd"
      },
      "execution_count": null,
      "outputs": [
        {
          "output_type": "stream",
          "name": "stdout",
          "text": [
            "Loop start\n"
          ]
        },
        {
          "output_type": "execute_result",
          "data": {
            "text/plain": [
              "1"
            ]
          },
          "metadata": {},
          "execution_count": 36
        }
      ]
    },
    {
      "cell_type": "code",
      "source": [
        "def count_up_to(n):\n",
        "  count = 1\n",
        "  while count <= n:\n",
        "    yield count\n",
        "    count += 1\n",
        "\n",
        "\n",
        "mygen = count_up_to(6)\n",
        "\n"
      ],
      "metadata": {
        "id": "ytxYYDN1PGjE"
      },
      "execution_count": null,
      "outputs": []
    },
    {
      "cell_type": "code",
      "source": [
        "for i in mygen:\n",
        "  print(i)"
      ],
      "metadata": {
        "colab": {
          "base_uri": "https://localhost:8080/"
        },
        "id": "y0CnCqFZO4rv",
        "outputId": "282b9026-62d9-45c6-b4ef-9c3c8c5fadec"
      },
      "execution_count": null,
      "outputs": [
        {
          "output_type": "stream",
          "name": "stdout",
          "text": [
            "1\n",
            "2\n",
            "3\n",
            "4\n",
            "5\n",
            "6\n"
          ]
        }
      ]
    },
    {
      "cell_type": "markdown",
      "source": [
        "Creating generators"
      ],
      "metadata": {
        "id": "neDTgRI8P5be"
      }
    },
    {
      "cell_type": "code",
      "source": [
        "cubes = (i ** 3 for i in range(10))\n",
        "cubes"
      ],
      "metadata": {
        "colab": {
          "base_uri": "https://localhost:8080/"
        },
        "id": "lXG6hNirP8sH",
        "outputId": "b6ea0961-dc3e-4737-97e4-9b9fd193656e"
      },
      "execution_count": null,
      "outputs": [
        {
          "output_type": "execute_result",
          "data": {
            "text/plain": [
              "<generator object <genexpr> at 0x788a7a863370>"
            ]
          },
          "metadata": {},
          "execution_count": 37
        }
      ]
    },
    {
      "cell_type": "code",
      "source": [
        "for i in cubes:\n",
        "  print(i)"
      ],
      "metadata": {
        "colab": {
          "base_uri": "https://localhost:8080/"
        },
        "id": "5LKAFC6wQk3i",
        "outputId": "ce4ead45-11ef-47ad-a8e5-585b0ae724d8"
      },
      "execution_count": null,
      "outputs": [
        {
          "output_type": "stream",
          "name": "stdout",
          "text": [
            "0\n",
            "1\n",
            "8\n",
            "27\n",
            "64\n",
            "125\n",
            "216\n",
            "343\n",
            "512\n",
            "729\n"
          ]
        }
      ]
    },
    {
      "cell_type": "code",
      "source": [
        "import sys\n",
        "\n",
        "mylist = [i for i in range(10000)]\n",
        "sys.getsizeof(mylist)\n",
        "\n"
      ],
      "metadata": {
        "colab": {
          "base_uri": "https://localhost:8080/"
        },
        "id": "TxqXGVRhRIlx",
        "outputId": "97e15b52-8c9b-48e0-eaad-60e5327beea6"
      },
      "execution_count": null,
      "outputs": [
        {
          "output_type": "execute_result",
          "data": {
            "text/plain": [
              "85176"
            ]
          },
          "metadata": {},
          "execution_count": 39
        }
      ]
    },
    {
      "cell_type": "markdown",
      "source": [
        "##Iterators"
      ],
      "metadata": {
        "id": "mjjvbnFHSCQy"
      }
    },
    {
      "cell_type": "code",
      "source": [
        "fruits = [\"apple\", \"banana\", \"pineapple\", \"mango\", \"litchi\"]\n",
        "it = iter(fruits)"
      ],
      "metadata": {
        "id": "WWLMMEiCSE7x"
      },
      "execution_count": null,
      "outputs": []
    },
    {
      "cell_type": "code",
      "source": [
        "next(it)"
      ],
      "metadata": {
        "colab": {
          "base_uri": "https://localhost:8080/",
          "height": 35
        },
        "id": "1nKoUq1bTL2Z",
        "outputId": "0ef229a6-8b82-4417-d682-5556f17e34a2"
      },
      "execution_count": null,
      "outputs": [
        {
          "output_type": "execute_result",
          "data": {
            "text/plain": [
              "'pineapple'"
            ],
            "application/vnd.google.colaboratory.intrinsic+json": {
              "type": "string"
            }
          },
          "metadata": {},
          "execution_count": 43
        }
      ]
    },
    {
      "cell_type": "markdown",
      "source": [
        "Create custom iterators"
      ],
      "metadata": {
        "id": "pZFmypP-TmGW"
      }
    },
    {
      "cell_type": "code",
      "source": [
        "for i in range (10, 15):\n",
        "  print(i)\n"
      ],
      "metadata": {
        "colab": {
          "base_uri": "https://localhost:8080/"
        },
        "id": "PlVj3v6IUifZ",
        "outputId": "d349c6c4-e700-43d0-b490-632717c8d56f"
      },
      "execution_count": null,
      "outputs": [
        {
          "output_type": "stream",
          "name": "stdout",
          "text": [
            "10\n",
            "11\n",
            "12\n",
            "13\n",
            "14\n"
          ]
        }
      ]
    },
    {
      "cell_type": "code",
      "source": [
        "class MyRange:\n",
        "  def __init__(self, start, end, step = 1):\n",
        "    self.start = start\n",
        "    self.end = end\n",
        "    self.step = step\n",
        "    self.current = start   # keeps track of current value while iterating\n",
        "\n",
        "  def __iter__(self):\n",
        "    return self            # an iterator must return itself\n",
        "\n",
        "  def __next__(self):\n",
        "    # checks if current value is still within bounds\n",
        "    if self.current >= self.start and self.current < self.end:\n",
        "      num = self.current\n",
        "      self.current += self.step   # increment by step\n",
        "      return num\n",
        "    else:\n",
        "      raise StopIteration  # stops iteration when limit is reached\n",
        "\n"
      ],
      "metadata": {
        "id": "yE09zm-GTkjt"
      },
      "execution_count": null,
      "outputs": []
    },
    {
      "cell_type": "code",
      "source": [
        "for i in MyRange(2, 10, 2):\n",
        "    print(i)"
      ],
      "metadata": {
        "colab": {
          "base_uri": "https://localhost:8080/"
        },
        "id": "Gaq7YUyrWAki",
        "outputId": "6b1e41f8-6ef5-47d9-a86b-5dd7e5907bce"
      },
      "execution_count": null,
      "outputs": [
        {
          "output_type": "stream",
          "name": "stdout",
          "text": [
            "2\n",
            "4\n",
            "6\n",
            "8\n"
          ]
        }
      ]
    },
    {
      "cell_type": "code",
      "source": [],
      "metadata": {
        "id": "po6sLZkgUnLW"
      },
      "execution_count": null,
      "outputs": []
    },
    {
      "cell_type": "code",
      "source": [
        "def print_info(kwargs):\n",
        "  for k, v in kwargs.items():\n",
        "    print(f\"{k}: {v}\")\n",
        "\n",
        "d1 = {\"class\": \"python\", \"time\": 8}\n",
        "print(d1)"
      ],
      "metadata": {
        "colab": {
          "base_uri": "https://localhost:8080/"
        },
        "id": "mySEoaepUqpr",
        "outputId": "f430d56c-12fc-4aa5-bbb2-b0d7859600af"
      },
      "execution_count": null,
      "outputs": [
        {
          "output_type": "stream",
          "name": "stdout",
          "text": [
            "{'class': 'python', 'time': 8}\n"
          ]
        }
      ]
    },
    {
      "cell_type": "markdown",
      "source": [
        "#Functools"
      ],
      "metadata": {
        "id": "sTt4HHZvWjAj"
      }
    },
    {
      "cell_type": "markdown",
      "source": [
        "Function.reduce()"
      ],
      "metadata": {
        "id": "U_BrILgJV2Qt"
      }
    },
    {
      "cell_type": "code",
      "source": [
        "import functools\n",
        "\n",
        "nums = [10, 40, 50, 12, 18, 11]\n",
        "maxnum = functools. reduce(lambda a, b: a if a > b else b, nums)\n",
        "maxnum"
      ],
      "metadata": {
        "colab": {
          "base_uri": "https://localhost:8080/"
        },
        "id": "hiTS7R0aV8N5",
        "outputId": "f6f7811a-a543-43b4-9045-d298c42058b6"
      },
      "execution_count": null,
      "outputs": [
        {
          "output_type": "execute_result",
          "data": {
            "text/plain": [
              "50"
            ]
          },
          "metadata": {},
          "execution_count": 21
        }
      ]
    },
    {
      "cell_type": "markdown",
      "source": [
        "Find the largest even number using reduce()"
      ],
      "metadata": {
        "id": "ExcPjjT9XqyU"
      }
    },
    {
      "cell_type": "code",
      "source": [
        "nums = [3, 32, 7, 8,  15, 2, 19]\n",
        "\n",
        "evens = filter(lambda x: x % 2 == 0, nums)\n",
        "\n",
        "max_even = functools.reduce(lambda a, b: a if a > b else b, evens)\n",
        "\n",
        "print(\"Maximum even number:\", max_even)"
      ],
      "metadata": {
        "colab": {
          "base_uri": "https://localhost:8080/"
        },
        "id": "3ehFnUvjXpvG",
        "outputId": "8f0498e8-d586-4830-dad5-7beadb7114d7"
      },
      "execution_count": null,
      "outputs": [
        {
          "output_type": "stream",
          "name": "stdout",
          "text": [
            "Maximum even number: 32\n"
          ]
        }
      ]
    },
    {
      "cell_type": "code",
      "source": [
        "def maxeven(a,b):\n",
        "  if a % 2 == 0 and b % 2 == 0:\n",
        "    return a if a > b else b\n",
        "  elif a % 2 == 0:\n",
        "    return a\n",
        "  elif b % 2 == 0:\n",
        "    return b\n",
        "  else:\n",
        "    return"
      ],
      "metadata": {
        "id": "guqniuyWY1dF"
      },
      "execution_count": null,
      "outputs": []
    },
    {
      "cell_type": "markdown",
      "source": [
        "Functions. partial()\n",
        "\n",
        "\n"
      ],
      "metadata": {
        "id": "yHWxwnIkZq8L"
      }
    },
    {
      "cell_type": "code",
      "source": [
        "def greet(name, message):\n",
        "  print(f\"{message}, {name}\")\n",
        "namaste = functools.partial(greet, message=\"Namaste\")\n",
        "good_morning = functools.partial(greet, message=\"Good morning\")\n",
        "\n",
        "namaste(\"sujan\")\n",
        "namaste(\"Aryan\")\n",
        "\n",
        "good_morning(\"Pranisha\")\n",
        "good_morning(\"Manbika\")\n"
      ],
      "metadata": {
        "colab": {
          "base_uri": "https://localhost:8080/"
        },
        "id": "9jAXADv6ZzY3",
        "outputId": "d5d1998a-dbbc-40df-e743-01b64792de9c"
      },
      "execution_count": null,
      "outputs": [
        {
          "output_type": "stream",
          "name": "stdout",
          "text": [
            "Namaste, sujan\n",
            "Namaste, Aryan\n",
            "Good morning, Pranisha\n",
            "Good morning, Manbika\n"
          ]
        }
      ]
    },
    {
      "cell_type": "markdown",
      "source": [
        "###Function.lru_cache()"
      ],
      "metadata": {
        "id": "SdA9PKRAbmVW"
      }
    },
    {
      "cell_type": "code",
      "source": [
        "import functools\n",
        "import time\n",
        "def fibonacci(n):\n",
        "  if n == 1 or n == 2:\n",
        "    return 1\n",
        "  else:\n",
        "    return fibonacci(n - 1) + fibonacci(n - 2)\n"
      ],
      "metadata": {
        "id": "89X2EhLkapvP"
      },
      "execution_count": null,
      "outputs": []
    },
    {
      "cell_type": "code",
      "source": [
        "start_time = time.time()\n",
        "print(fibonacci(35))\n",
        "end_time = time.time()\n",
        "print(\"Execution time:\", end_time - start_time)"
      ],
      "metadata": {
        "colab": {
          "base_uri": "https://localhost:8080/"
        },
        "id": "NPSCUAC1dYrv",
        "outputId": "6bbfc1b7-e27b-40ea-a09e-7381cfc8705a"
      },
      "execution_count": null,
      "outputs": [
        {
          "output_type": "stream",
          "name": "stdout",
          "text": [
            "9227465\n",
            "Execution time: 2.2644736766815186\n"
          ]
        }
      ]
    },
    {
      "cell_type": "markdown",
      "source": [
        "##Decorators"
      ],
      "metadata": {
        "id": "kHaIFu90e4RU"
      }
    },
    {
      "cell_type": "code",
      "source": [
        "import time\n",
        "def execution_time(func):\n",
        "  def wrapper(*args ,**kwargs):\n",
        "    print(\"Starting execution\")\n",
        "    start_time = time.time()\n",
        "    val = func(*args, **kwargs)\n",
        "    print(\"Execution ended\")\n",
        "    end_time = time.time()\n",
        "\n",
        "    print(\"Execution time:\", end_time - start_time)\n",
        "    return val\n",
        "\n",
        "  return wrapper\n",
        "\n"
      ],
      "metadata": {
        "id": "5xFx5Y58gL2_"
      },
      "execution_count": null,
      "outputs": []
    },
    {
      "cell_type": "code",
      "source": [
        "@execution_time\n",
        "def add(a, b):\n",
        "  return a + b\n",
        "\n",
        "add(10, 20)"
      ],
      "metadata": {
        "colab": {
          "base_uri": "https://localhost:8080/"
        },
        "id": "ZDEyLOvxe97_",
        "outputId": "f8e491ed-8267-4d62-8ace-25d3465d0cd1"
      },
      "execution_count": null,
      "outputs": [
        {
          "output_type": "stream",
          "name": "stdout",
          "text": [
            "Starting execution\n",
            "Execution ended\n",
            "Execution time: 7.867813110351562e-06\n"
          ]
        },
        {
          "output_type": "execute_result",
          "data": {
            "text/plain": [
              "30"
            ]
          },
          "metadata": {},
          "execution_count": 48
        }
      ]
    },
    {
      "cell_type": "code",
      "source": [
        "@execution_time\n",
        "def greet(name, message):\n",
        "  print(f\"{message}, {name}\")\n",
        "\n",
        "greet(\"Hi\", \"Manbika\")\n"
      ],
      "metadata": {
        "colab": {
          "base_uri": "https://localhost:8080/"
        },
        "id": "DILMiv6uhbGO",
        "outputId": "7f6140d4-12a3-40e5-beb4-97a8439b4010"
      },
      "execution_count": null,
      "outputs": [
        {
          "output_type": "stream",
          "name": "stdout",
          "text": [
            "Starting execution\n",
            "Manbika, Hi\n",
            "Execution ended\n",
            "Execution time: 1.6927719116210938e-05\n"
          ]
        }
      ]
    }
  ],
  "metadata": {
    "colab": {
      "provenance": []
    },
    "kernelspec": {
      "display_name": "Python 3",
      "name": "python3"
    },
    "language_info": {
      "name": "python"
    }
  },
  "nbformat": 4,
  "nbformat_minor": 0
}